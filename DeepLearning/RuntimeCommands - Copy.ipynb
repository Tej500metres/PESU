{
 "cells": [
  {
   "cell_type": "code",
   "execution_count": 1,
   "metadata": {},
   "outputs": [],
   "source": [
    "!python separate_clean_and_unclean.py"
   ]
  },
  {
   "cell_type": "code",
   "execution_count": 2,
   "metadata": {},
   "outputs": [],
   "source": [
    "!python make_training_set.py"
   ]
  },
  {
   "cell_type": "code",
   "execution_count": 3,
   "metadata": {},
   "outputs": [],
   "source": [
    "!python make_test_set.py"
   ]
  },
  {
   "cell_type": "code",
   "execution_count": 4,
   "metadata": {},
   "outputs": [
    {
     "name": "stdout",
     "output_type": "stream",
     "text": [
      "Wrote training / test results for IE here: models\\baseline_accuracy_IE.txt"
     ]
    },
    {
     "name": "stderr",
     "output_type": "stream",
     "text": [
      "2021-04-26 09:45:03.589771: W tensorflow/stream_executor/platform/default/dso_loader.cc:60] Could not load dynamic library 'cudart64_110.dll'; dlerror: cudart64_110.dll not found\n",
      "2021-04-26 09:45:03.589814: I tensorflow/stream_executor/cuda/cudart_stub.cc:29] Ignore above cudart dlerror if you do not have a GPU set up on your machine.\n"
     ]
    },
    {
     "name": "stdout",
     "output_type": "stream",
     "text": [
      "\n",
      "Wrote training / test results for NS here: models\\baseline_accuracy_NS.txt\n",
      "Wrote training / test results for FT here: models\\baseline_accuracy_FT.txt\n",
      "Wrote training / test results for PJ here: models\\baseline_accuracy_PJ.txt\n"
     ]
    }
   ],
   "source": [
    "!python baseline.py"
   ]
  },
  {
   "cell_type": "code",
   "execution_count": 5,
   "metadata": {},
   "outputs": [
    {
     "name": "stderr",
     "output_type": "stream",
     "text": [
      "2021-04-26 09:51:41.531345: W tensorflow/stream_executor/platform/default/dso_loader.cc:60] Could not load dynamic library 'cudart64_110.dll'; dlerror: cudart64_110.dll not found"
     ]
    },
    {
     "name": "stdout",
     "output_type": "stream",
     "text": [
      "Loaded 400000 word vectors.\n",
      "Model: \"sequential\"\n",
      "_________________________________________________________________\n",
      "Layer (type)                 Output Shape              Param #   \n",
      "=================================================================\n",
      "embedding (Embedding)        (None, 40, 50)            125000    \n",
      "_________________________________________________________________\n",
      "lstm (LSTM)                  (None, 50)                20200     \n",
      "_________________________________________________________________\n",
      "dense (Dense)                (None, 1)                 51        \n",
      "=================================================================\n",
      "Total params: 145,251\n",
      "Trainable params: 145,251\n",
      "Non-trainable params: 0\n",
      "_________________________________________________________________\n",
      "None\n",
      "\n",
      " 1/79 [..............................] - ETA: 13:45 - loss: 0.7600 - accuracy: 0.4844\n",
      " 2/79 [..............................] - ETA: 13s - loss: 0.7444 - accuracy: 0.4805  \n",
      " 3/79 [>.............................] - ETA: 9s - loss: 0.7415 - accuracy: 0.4757 \n",
      " 4/79 [>.............................] - ETA: 9s - loss: 0.7381 - accuracy: 0.4774\n",
      " 5/79 [>.............................] - ETA: 10s - loss: 0.7353 - accuracy: 0.4778\n",
      " 6/79 [=>............................] - ETA: 9s - loss: 0.7325 - accuracy: 0.4787 \n",
      " 7/79 [=>............................] - ETA: 8s - loss: 0.7301 - accuracy: 0.4798\n",
      " 8/79 [==>...........................] - ETA: 8s - loss: 0.7282 - accuracy: 0.4808\n",
      " 9/79 [==>...........................] - ETA: 8s - loss: 0.7265 - accuracy: 0.4819\n",
      "10/79 [==>...........................] - ETA: 8s - loss: 0.7249 - accuracy: 0.4835\n",
      "11/79 [===>..........................] - ETA: 7s - loss: 0.7235 - accuracy: 0.4848\n",
      "12/79 [===>..........................] - ETA: 7s - loss: 0.7223 - accuracy: 0.4859\n",
      "13/79 [===>..........................] - ETA: 7s - loss: 0.7213 - accuracy: 0.4868\n",
      "14/79 [====>.........................] - ETA: 7s - loss: 0.7204 - accuracy: 0.4877\n",
      "15/79 [====>.........................] - ETA: 7s - loss: 0.7195 - accuracy: 0.4885\n",
      "16/79 [=====>........................] - ETA: 6s - loss: 0.7187 - accuracy: 0.4890\n",
      "17/79 [=====>........................] - ETA: 6s - loss: 0.7179 - accuracy: 0.4897\n",
      "18/79 [=====>........................] - ETA: 6s - loss: 0.7172 - accuracy: 0.4903\n",
      "19/79 [======>.......................] - ETA: 6s - loss: 0.7165 - accuracy: 0.4907\n",
      "20/79 [======>.......................] - ETA: 6s - loss: 0.7160 - accuracy: 0.4912\n",
      "21/79 [======>.......................] - ETA: 6s - loss: 0.7154 - accuracy: 0.4919\n",
      "22/79 [=======>......................] - ETA: 6s - loss: 0.7148 - accuracy: 0.4926\n",
      "23/79 [=======>......................] - ETA: 6s - loss: 0.7143 - accuracy: 0.4931\n",
      "24/79 [========>.....................] - ETA: 5s - loss: 0.7138 - accuracy: 0.4936\n",
      "25/79 [========>.....................] - ETA: 5s - loss: 0.7133 - accuracy: 0.4941\n",
      "26/79 [========>.....................] - ETA: 5s - loss: 0.7129 - accuracy: 0.4946\n",
      "27/79 [=========>....................] - ETA: 5s - loss: 0.7124 - accuracy: 0.4951\n",
      "28/79 [=========>....................] - ETA: 5s - loss: 0.7120 - accuracy: 0.4955\n",
      "29/79 [==========>...................] - ETA: 5s - loss: 0.7116 - accuracy: 0.4959\n",
      "30/79 [==========>...................] - ETA: 5s - loss: 0.7113 - accuracy: 0.4962\n",
      "31/79 [==========>...................] - ETA: 5s - loss: 0.7109 - accuracy: 0.4966\n",
      "32/79 [===========>..................] - ETA: 4s - loss: 0.7106 - accuracy: 0.4969\n",
      "33/79 [===========>..................] - ETA: 4s - loss: 0.7103 - accuracy: 0.4972\n",
      "34/79 [===========>..................] - ETA: 4s - loss: 0.7100 - accuracy: 0.4975\n",
      "35/79 [============>.................] - ETA: 4s - loss: 0.7098 - accuracy: 0.4978\n",
      "36/79 [============>.................] - ETA: 4s - loss: 0.7095 - accuracy: 0.4981\n",
      "37/79 [=============>................] - ETA: 4s - loss: 0.7093 - accuracy: 0.4983\n",
      "38/79 [=============>................] - ETA: 4s - loss: 0.7090 - accuracy: 0.4985\n",
      "39/79 [=============>................] - ETA: 4s - loss: 0.7088 - accuracy: 0.4988\n",
      "40/79 [==============>...............] - ETA: 4s - loss: 0.7086 - accuracy: 0.4990\n",
      "41/79 [==============>...............] - ETA: 3s - loss: 0.7084 - accuracy: 0.4992\n",
      "42/79 [==============>...............] - ETA: 3s - loss: 0.7082 - accuracy: 0.4994\n",
      "43/79 [===============>..............] - ETA: 3s - loss: 0.7080 - accuracy: 0.4997\n",
      "44/79 [===============>..............] - ETA: 3s - loss: 0.7078 - accuracy: 0.5000\n",
      "45/79 [================>.............] - ETA: 3s - loss: 0.7076 - accuracy: 0.5002\n",
      "46/79 [================>.............] - ETA: 3s - loss: 0.7074 - accuracy: 0.5005\n",
      "47/79 [================>.............] - ETA: 3s - loss: 0.7072 - accuracy: 0.5007\n",
      "48/79 [=================>............] - ETA: 3s - loss: 0.7071 - accuracy: 0.5009\n",
      "49/79 [=================>............] - ETA: 3s - loss: 0.7069 - accuracy: 0.5011\n",
      "50/79 [=================>............] - ETA: 2s - loss: 0.7067 - accuracy: 0.5013\n",
      "51/79 [==================>...........] - ETA: 2s - loss: 0.7066 - accuracy: 0.5016\n",
      "52/79 [==================>...........] - ETA: 2s - loss: 0.7064 - accuracy: 0.5018\n",
      "53/79 [===================>..........] - ETA: 2s - loss: 0.7062 - accuracy: 0.5020\n",
      "54/79 [===================>..........] - ETA: 2s - loss: 0.7061 - accuracy: 0.5022\n",
      "55/79 [===================>..........] - ETA: 2s - loss: 0.7059 - accuracy: 0.5024\n",
      "56/79 [====================>.........] - ETA: 2s - loss: 0.7058 - accuracy: 0.5025\n",
      "57/79 [====================>.........] - ETA: 2s - loss: 0.7056 - accuracy: 0.5027\n",
      "58/79 [=====================>........] - ETA: 2s - loss: 0.7055 - accuracy: 0.5029\n",
      "59/79 [=====================>........] - ETA: 2s - loss: 0.7054 - accuracy: 0.5030\n",
      "60/79 [=====================>........] - ETA: 1s - loss: 0.7052 - accuracy: 0.5031\n",
      "61/79 [======================>.......] - ETA: 1s - loss: 0.7051 - accuracy: 0.5032\n",
      "62/79 [======================>.......] - ETA: 1s - loss: 0.7050 - accuracy: 0.5034\n",
      "63/79 [======================>.......] - ETA: 1s - loss: 0.7049 - accuracy: 0.5035\n",
      "64/79 [=======================>......] - ETA: 1s - loss: 0.7048 - accuracy: 0.5036\n",
      "65/79 [=======================>......] - ETA: 1s - loss: 0.7046 - accuracy: 0.5037\n",
      "66/79 [========================>.....] - ETA: 1s - loss: 0.7045 - accuracy: 0.5038\n",
      "67/79 [========================>.....] - ETA: 1s - loss: 0.7044 - accuracy: 0.5040\n",
      "68/79 [========================>.....] - ETA: 1s - loss: 0.7043 - accuracy: 0.5040\n",
      "69/79 [=========================>....] - ETA: 1s - loss: 0.7042 - accuracy: 0.5041\n",
      "70/79 [=========================>....] - ETA: 0s - loss: 0.7041 - accuracy: 0.5042\n",
      "71/79 [=========================>....] - ETA: 0s - loss: 0.7040 - accuracy: 0.5043\n",
      "72/79 [==========================>...] - ETA: 0s - loss: 0.7039 - accuracy: 0.5043\n",
      "73/79 [==========================>...] - ETA: 0s - loss: 0.7038 - accuracy: 0.5044\n",
      "74/79 [===========================>..] - ETA: 0s - loss: 0.7037 - accuracy: 0.5045\n",
      "75/79 [===========================>..] - ETA: 0s - loss: 0.7036 - accuracy: 0.5045\n",
      "76/79 [===========================>..] - ETA: 0s - loss: 0.7035 - accuracy: 0.5046\n",
      "77/79 [============================>.] - ETA: 0s - loss: 0.7035 - accuracy: 0.5046\n",
      "78/79 [============================>.] - ETA: 0s - loss: 0.7034 - accuracy: 0.5046\n",
      "79/79 [==============================] - ETA: 0s - loss: 0.7033 - accuracy: 0.5047\n",
      "79/79 [==============================] - 18s 101ms/step - loss: 0.7032 - accuracy: 0.5047\n",
      "\n",
      "Wrote training / test results for IE here: models\\rnn_accuracy_IE.txt\n",
      "\n",
      "Loaded 400000 word vectors.\n",
      "Model: \"sequential_1\"\n",
      "_________________________________________________________________\n",
      "Layer (type)                 Output Shape              Param #   \n",
      "=================================================================\n",
      "embedding_1 (Embedding)      (None, 40, 50)            125000    \n",
      "_________________________________________________________________\n",
      "lstm_1 (LSTM)                (None, 50)                20200     \n",
      "_________________________________________________________________\n",
      "dense_1 (Dense)              (None, 1)                 51        \n",
      "=================================================================\n",
      "Total params: 145,251\n",
      "Trainable params: 145,251\n",
      "Non-trainable params: 0\n",
      "_________________________________________________________________\n",
      "None\n",
      "\n",
      " 1/79 [..............................] - ETA: 4:12 - loss: 0.7363 - accuracy: 0.4531\n",
      " 2/79 [..............................] - ETA: 7s - loss: 0.7247 - accuracy: 0.4727  \n",
      " 3/79 [>.............................] - ETA: 7s - loss: 0.7261 - accuracy: 0.4800\n",
      " 4/79 [>.............................] - ETA: 7s - loss: 0.7263 - accuracy: 0.4840\n",
      " 5/79 [>.............................] - ETA: 6s - loss: 0.7247 - accuracy: 0.4869\n",
      " 6/79 [=>............................] - ETA: 6s - loss: 0.7229 - accuracy: 0.4885\n",
      " 7/79 [=>............................] - ETA: 6s - loss: 0.7214 - accuracy: 0.4888\n",
      " 8/79 [==>...........................] - ETA: 6s - loss: 0.7200 - accuracy: 0.4906\n",
      " 9/79 [==>...........................] - ETA: 6s - loss: 0.7188 - accuracy: 0.4916\n",
      "10/79 [==>...........................] - ETA: 6s - loss: 0.7179 - accuracy: 0.4922\n",
      "11/79 [===>..........................] - ETA: 6s - loss: 0.7171 - accuracy: 0.4924\n",
      "12/79 [===>..........................] - ETA: 6s - loss: 0.7163 - accuracy: 0.4928\n",
      "13/79 [===>..........................] - ETA: 5s - loss: 0.7155 - accuracy: 0.4938\n",
      "14/79 [====>.........................] - ETA: 5s - loss: 0.7146 - accuracy: 0.4953\n",
      "15/79 [====>.........................] - ETA: 5s - loss: 0.7138 - accuracy: 0.4966\n",
      "16/79 [=====>........................] - ETA: 5s - loss: 0.7131 - accuracy: 0.4977\n",
      "17/79 [=====>........................] - ETA: 5s - loss: 0.7124 - accuracy: 0.4987\n",
      "18/79 [=====>........................] - ETA: 5s - loss: 0.7118 - accuracy: 0.4994\n",
      "19/79 [======>.......................] - ETA: 5s - loss: 0.7113 - accuracy: 0.5002\n",
      "20/79 [======>.......................] - ETA: 5s - loss: 0.7107 - accuracy: 0.5010\n",
      "21/79 [======>.......................] - ETA: 5s - loss: 0.7102 - accuracy: 0.5018\n",
      "22/79 [=======>......................] - ETA: 5s - loss: 0.7098 - accuracy: 0.5023"
     ]
    },
    {
     "name": "stderr",
     "output_type": "stream",
     "text": [
      "\n",
      "2021-04-26 09:51:41.531418: I tensorflow/stream_executor/cuda/cudart_stub.cc:29] Ignore above cudart dlerror if you do not have a GPU set up on your machine.\n",
      "2021-04-26 09:53:30.281390: I tensorflow/compiler/jit/xla_cpu_device.cc:41] Not creating XLA devices, tf_xla_enable_xla_devices not set\n",
      "2021-04-26 09:53:30.365617: W tensorflow/stream_executor/platform/default/dso_loader.cc:60] Could not load dynamic library 'nvcuda.dll'; dlerror: nvcuda.dll not found\n",
      "2021-04-26 09:53:30.391093: W tensorflow/stream_executor/cuda/cuda_driver.cc:326] failed call to cuInit: UNKNOWN ERROR (303)\n",
      "2021-04-26 09:53:30.400090: I tensorflow/stream_executor/cuda/cuda_diagnostics.cc:169] retrieving CUDA diagnostic information for host: Tejeshwar-U\n",
      "2021-04-26 09:53:30.400342: I tensorflow/stream_executor/cuda/cuda_diagnostics.cc:176] hostname: Tejeshwar-U\n",
      "2021-04-26 09:53:30.715059: I tensorflow/compiler/jit/xla_gpu_device.cc:99] Not creating XLA devices, tf_xla_enable_xla_devices not set\n",
      "2021-04-26 09:53:39.852530: I tensorflow/compiler/mlir/mlir_graph_optimization_pass.cc:116] None of the MLIR optimization passes are enabled (registered 2)\n",
      "C:\\Users\\Tejeshwar_U\\anaconda3\\lib\\site-packages\\tensorflow\\python\\keras\\engine\\sequential.py:450: UserWarning: `model.predict_classes()` is deprecated and will be removed after 2021-01-01. Please use instead:* `np.argmax(model.predict(x), axis=-1)`,   if your model does multi-class classification   (e.g. if it uses a `softmax` last-layer activation).* `(model.predict(x) > 0.5).astype(\"int32\")`,   if your model does binary classification   (e.g. if it uses a `sigmoid` last-layer activation).\n",
      "  warnings.warn('`model.predict_classes()` is deprecated and '\n",
      "C:\\Users\\Tejeshwar_U\\anaconda3\\lib\\site-packages\\tensorflow\\python\\keras\\engine\\sequential.py:425: UserWarning: `model.predict_proba()` is deprecated and will be removed after 2021-01-01. Please use `model.predict()` instead.\n",
      "  warnings.warn('`model.predict_proba()` is deprecated and '\n"
     ]
    }
   ],
   "source": [
    "!python rnn.py"
   ]
  },
  {
   "cell_type": "code",
   "execution_count": 8,
   "metadata": {},
   "outputs": [
    {
     "name": "stdout",
     "output_type": "stream",
     "text": [
      "IE\n",
      "0.5178909301757812\n",
      "NS\n",
      "0.49647337198257446\n",
      "FT\n",
      "0.5763244032859802\n",
      "PJ\n",
      "0.45826199650764465\n",
      "\n",
      "Final prediction: ENTP\n"
     ]
    },
    {
     "name": "stderr",
     "output_type": "stream",
     "text": [
      "2021-04-26 11:36:05.612940: W tensorflow/stream_executor/platform/default/dso_loader.cc:60] Could not load dynamic library 'cudart64_110.dll'; dlerror: cudart64_110.dll not found\n",
      "2021-04-26 11:36:05.612997: I tensorflow/stream_executor/cuda/cudart_stub.cc:29] Ignore above cudart dlerror if you do not have a GPU set up on your machine.\n",
      "2021-04-26 11:36:09.194591: I tensorflow/compiler/jit/xla_cpu_device.cc:41] Not creating XLA devices, tf_xla_enable_xla_devices not set\n",
      "2021-04-26 11:36:09.196247: W tensorflow/stream_executor/platform/default/dso_loader.cc:60] Could not load dynamic library 'nvcuda.dll'; dlerror: nvcuda.dll not found\n",
      "2021-04-26 11:36:09.196278: W tensorflow/stream_executor/cuda/cuda_driver.cc:326] failed call to cuInit: UNKNOWN ERROR (303)\n",
      "2021-04-26 11:36:09.200024: I tensorflow/stream_executor/cuda/cuda_diagnostics.cc:169] retrieving CUDA diagnostic information for host: Tejeshwar-U\n",
      "2021-04-26 11:36:09.200128: I tensorflow/stream_executor/cuda/cuda_diagnostics.cc:176] hostname: Tejeshwar-U\n",
      "2021-04-26 11:36:09.200782: I tensorflow/compiler/jit/xla_gpu_device.cc:99] Not creating XLA devices, tf_xla_enable_xla_devices not set\n",
      "2021-04-26 11:36:17.660640: I tensorflow/compiler/mlir/mlir_graph_optimization_pass.cc:116] None of the MLIR optimization passes are enabled (registered 2)\n"
     ]
    }
   ],
   "source": [
    "!python trump_predictor.py"
   ]
  },
  {
   "cell_type": "code",
   "execution_count": 9,
   "metadata": {},
   "outputs": [],
   "source": [
    "!python differentiate_words.py"
   ]
  },
  {
   "cell_type": "code",
   "execution_count": 11,
   "metadata": {},
   "outputs": [
    {
     "name": "stderr",
     "output_type": "stream",
     "text": [
      "2021-04-26 11:41:09.775634: W tensorflow/stream_executor/platform/default/dso_loader.cc:60] Could not load dynamic library 'cudart64_110.dll'; dlerror: cudart64_110.dll not found\n",
      "2021-04-26 11:41:09.775668: I tensorflow/stream_executor/cuda/cudart_stub.cc:29] Ignore above cudart dlerror if you do not have a GPU set up on your machine.\n",
      "2021-04-26 11:41:13.799507: I tensorflow/compiler/jit/xla_cpu_device.cc:41] Not creating XLA devices, tf_xla_enable_xla_devices not set\n",
      "2021-04-26 11:41:13.801161: W tensorflow/stream_executor/platform/default/dso_loader.cc:60] Could not load dynamic library 'nvcuda.dll'; dlerror: nvcuda.dll not found\n",
      "2021-04-26 11:41:13.801191: W tensorflow/stream_executor/cuda/cuda_driver.cc:326] failed call to cuInit: UNKNOWN ERROR (303)\n",
      "2021-04-26 11:41:13.804718: I tensorflow/stream_executor/cuda/cuda_diagnostics.cc:169] retrieving CUDA diagnostic information for host: Tejeshwar-U\n",
      "2021-04-26 11:41:13.804838: I tensorflow/stream_executor/cuda/cuda_diagnostics.cc:176] hostname: Tejeshwar-U\n",
      "2021-04-26 11:41:13.805503: I tensorflow/compiler/jit/xla_gpu_device.cc:99] Not creating XLA devices, tf_xla_enable_xla_devices not set\n",
      "2021-04-26 11:41:18.595306: I tensorflow/compiler/mlir/mlir_graph_optimization_pass.cc:116] None of the MLIR optimization passes are enabled (registered 2)\n"
     ]
    }
   ],
   "source": [
    "!python word_cloud.py"
   ]
  },
  {
   "cell_type": "code",
   "execution_count": null,
   "metadata": {},
   "outputs": [],
   "source": []
  }
 ],
 "metadata": {
  "kernelspec": {
   "display_name": "Python 3",
   "language": "python",
   "name": "python3"
  },
  "language_info": {
   "codemirror_mode": {
    "name": "ipython",
    "version": 3
   },
   "file_extension": ".py",
   "mimetype": "text/x-python",
   "name": "python",
   "nbconvert_exporter": "python",
   "pygments_lexer": "ipython3",
   "version": "3.7.6"
  }
 },
 "nbformat": 4,
 "nbformat_minor": 4
}
