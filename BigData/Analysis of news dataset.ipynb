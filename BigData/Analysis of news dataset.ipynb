{
 "cells": [
  {
   "cell_type": "markdown",
   "metadata": {},
   "source": [
    "## Analysis of News Dataset \n",
    "Our main goal is to \n",
    "1. Cluster similar news articles. \n",
    "2. Extract important topics from a large corpus of news articles."
   ]
  },
  {
   "cell_type": "code",
   "execution_count": 69,
   "metadata": {},
   "outputs": [],
   "source": [
    "import sparknlp\n",
    "from sparknlp.base import *\n",
    "from sparknlp.annotator import * \n",
    "\n",
    "spark = sparknlp.start()"
   ]
  },
  {
   "cell_type": "markdown",
   "metadata": {},
   "source": [
    "### Loading the dataset using jdbc"
   ]
  },
  {
   "cell_type": "code",
   "execution_count": 70,
   "metadata": {},
   "outputs": [],
   "source": [
    "df = spark.read.format(\"jdbc\").options(url =\"jdbc:sqlite:/home/sankethbk7777/News_dataset/all-the-news.db\",  driver=\"org.sqlite.JDBC\", dbtable = \"longform\").load()"
   ]
  },
  {
   "cell_type": "code",
   "execution_count": 71,
   "metadata": {},
   "outputs": [
    {
     "name": "stdout",
     "output_type": "stream",
     "text": [
      "root\n",
      " |-- id: decimal(38,18) (nullable = true)\n",
      " |-- title: string (nullable = true)\n",
      " |-- author: string (nullable = true)\n",
      " |-- date: string (nullable = true)\n",
      " |-- content: string (nullable = true)\n",
      " |-- year: integer (nullable = true)\n",
      " |-- month: integer (nullable = true)\n",
      " |-- publication: string (nullable = true)\n",
      " |-- category: string (nullable = true)\n",
      " |-- digital: integer (nullable = true)\n",
      " |-- section: string (nullable = true)\n",
      " |-- url: string (nullable = true)\n",
      "\n"
     ]
    }
   ],
   "source": [
    "# Loading the dataset \n",
    "\n",
    "#df = spark.read.option('header',True).csv('archive/articles2.csv')  # trial dataset \n",
    "df.printSchema()"
   ]
  },
  {
   "cell_type": "code",
   "execution_count": 60,
   "metadata": {},
   "outputs": [
    {
     "data": {
      "text/plain": [
       "204135"
      ]
     },
     "execution_count": 60,
     "metadata": {},
     "output_type": "execute_result"
    }
   ],
   "source": [
    "df.count()  # no of rows"
   ]
  },
  {
   "cell_type": "code",
   "execution_count": 61,
   "metadata": {},
   "outputs": [
    {
     "data": {
      "text/plain": [
       "Row(id=Decimal('1.000000000000000000'), title='Agent Cooper in Twin Peaks is the audience: once delighted, now disintegrating', author='\\nTasha Robinson\\n', date='2017-05-31', content='      And never more so than in Showtime’s new series revival Some spoilers ahead through episode 4 of season 3 of Twin Peaks. On May 21st, Showtime brought back David Lynch’s groundbreaking TV series Twin Peaks, and fulfilled a prophecy in the process. In the second season finale, back in 1991, the spirit of series-defining murder victim Laura Palmer told FBI special agent and series protagonist Dale Cooper, “I’ll see you again in 25 years.” That clip plays again in the first episode of Lynch’s Twin Peaks revival, as a reminder that decades have in fact gone by, Laura’s promise has been carried out, and a series canceled mid-story is back on the air.A lot has changed in 25 years. The original cast members, who are mostly back on board, have all aged heavily and visibly. Many of the characters have moved on in life, getting new jobs, forming families, or taking up new obsessions. But in the opening episode, Dale Cooper was still where the show left him in 1991: trapped in the spirit domain known as the Black Lodge, at the mercy of incomprehensible forces that behave in erratic, alien ways. In other words, he’s just like anyone who’s actually watching Twin Peaks. As the third season began, the audience was also stuck back in 1991, waiting to see whether we were going to move on from the show’s many long-gestating cliffhangers. And we were also at the mercy of the incomprehensible force that is David Lynch, with his erratic, alien storytelling methods.All protagonists are mediators who help tell audiences how to interpret the narrative around them, but Dale Cooper is something else entirely: he is the audience, stumbling through Lynch’s obscure vision, and mutating along with it. The show’s tone, budget, and format have all changed with the 2017 revival, and Cooper, too, has changed — more so than any other character on the show. But he’s changed in ways we should recognize. They’re the same ways we’ve changed, as Twin Peaks has progressed from era-defining hit to weird cable art-experiment. The old series followed Agent Cooper through the painful, awkward process of maturing as an agent and a man. And his development happened in parallel with the maturing of a TV audience that had to learn how to follow a new kind of story.All protagonists mediate their stories, but Dale Cooper is something else entirelyToday, viewers have more sophisticated expectations than they did in the 1990s. They expect long arcs, slow character development, and mysteries that may take hours of air time to explore, let alone to decode. But Showtime’s new series is still leaving viewers curious, frustrated, baffled, and without the tools to translate what they’re seeing — which is exactly what Agent Cooper seems to be feeling right now as well. Consider Cooper as he started Twin Peaks back in 1990, as a fresh-faced, perky outsider walking into a mid-sized mountain community with no idea what to expect. Like the audience, he was entranced by the town of Twin Peaks — its quirky people, its unexpected pleasures, the sheer vividness of everything around him. Yes, he was there to solve a murder, but he was endlessly confident about his ability to tackle any case. The audience felt the same natural confidence. We knew how TV murder mysteries went. We thought we knew exactly what to expect from that end of the story: some procedural details, some red herrings, some drama, and eventually a solution.                Image: ABC  But like Cooper, we were seduced and distracted by Twin Peaks’ unexpected pleasures, the way the town unfolded on-screen, with all its strange domestic soap opera dramas and oddball interactions. Like Coop, we found our fun in the unusual texture and color of the world David Lynch and Mark Frost built. In those early days, Twin Peaks was a popular fad — the two-hour pilot was the season’s highest-rated TV movie — and the popular way to appreciate it was by emulating Dale Cooper’s experience as much as possible. Lifestyle pieces proliferated in the media, tracking people who threw Peaks parties to watch the show while eating all the things Cooper rhapsodized about in the early episodes: stacks of doughnuts, cherry pie, coffee, and breakfast food. (“Nothing beats the taste sensation when maple syrup collides with ham!” he chirps in episode 4.) The audience didn’t just want to watch Cooper solving a mystery, they wanted to be him, experiencing his outsized cheer for the world.The audience didn’t just want to watch Cooper solving a mystery, they wanted to be himAs the story went on, though, the tone darkened. Cooper lost his Boy Scout enthusiasm for food and the smell of Douglas firs. As more details emerged in the Laura Palmer murder case, another victim surfaced, and the supernatural side of the story emerged, Twin Peaks stopped sending Cooper on wacky cosplay adventures to Canada, and letting him vet his clues with oddball psychic experiments. It started confronting him with unexpected, alarming experiences. He took the first one in stride: visiting the Black Lodge in a dream, he returned convinced that he’d solved the murder, and that all would be well once he remembered the solution. Like us, he didn’t really understand what was going on at that point of the story, but he was still optimistic, and still willing to roll with every strange new revelation. Then Cooper got shot. The second season of Twin Peaks opened with him bleeding on the ground, enduring the unhelpful attentions of “the world’s oldest waiter,” listening to a glowing giant who dispenses information without acknowledging that Cooper may not live to use it, and having a strained one-way conversation with his voice-activated tape recorder. The viewers suffered along with him, through excruciating events that seemed drawn out to the point of perversity. Suddenly, being Agent Dale Cooper wasn’t fun anymore. His confidence was punctured, and we were all baffled and helpless together.                Image: ABC  There are moments in season 2 where Cooper bounces back into form, but they’re outnumbered by events that exhaust and chasten him, visibly transforming him into a more solemn, internal man. Jean Renault held him hostage, beat him, and threatened to murder him, suggesting Cooper was the cause of the town’s growing darkness. His former FBI partner Windom Earle brought a new chaos to town, and revealed Cooper’s past failings. Cooper lost his FBI standing and his love interest. He saw Earle’s soul consumed in front of him. A murderous monster took his place in the outside world. By the time season 2 ended, the audience had seen Cooper frightened, powerless, and confused as much as it ever saw him confident and in control. He stopped being a motive force in the world, and became a passive object in his own story. The series’s cancellation left viewers just as rudderless and abandoned as he was.‘Twin Peaks’ was about a hero maturing, but also about how the world consumed and broke himCooper’s trend toward impotence over the course of Twin Peaks’ original series run made for an ambitious and personal story. In the 1990s, TV viewers weren’t used to long-arc serial dramas where the protagonist changed rapidly and irrevocably, the way protagonists are expected to in today’s stories. But while Twin Peaks’ arc was compelling to many of the fans who stuck with it, it was wearying and demoralizing as well. The ratings trended steadily and sharply downward, peaking at milestones — the second season premiere, the reveal of who killed Laura Palmer — but still plummeting from the early days. The ratings drop was a form of feedback from a viewership who, like Cooper, weren’t confident and eager anymore. They began rejecting the show as it rejected its early tone, and its early promise. As Twin Peaks developed, it became clear that it was about the maturing of a hero, but it was also about how the vast and incomprehensible aspects of his world claimed, consumed, and broke him. Viewers couldn’t be blamed for pulling away from that story.And as Lynch withdrew from the show, it became narratively muddled, inconsistent, and sometimes downright silly. Cooper’s story remains one relatively consistent throughline, but it’s a tragic one, in which a fan-favorite character, the voice and point of view of the series, loses his joy, his freedom, and his capacity to control his own life. And it became the story of an audience that flocked to the show for lively, quirky surprises, and wound up splintered, divided, and uncertain.                Image: Showtime  Showtime’s series launches with Agent Cooper as thoroughly broken as he’s ever been. The first two episodes find him still trapped in the Lodge, facing the shrieking spirit of Laura Palmer and an angry human-sized nervous system topped by a pulsing, talking brain. He’s ejected into space, threatened by an unseen force, and rescued by a blinded woman with unclear motives who helps him in unclear ways. Finally, he’s fed through an electrical socket into what seems to be a decoy body, living its own life until he takes it over. By episode 4 of the series, he’s stumbling around in a lobotomized daze, repeating whatever people say to him, bellowing “Help” at random strangers and “Helloooooo!” at slot machines. He’s confused, helpless, and only slowly regaining the tools he needs to function in this world.And so are we. The knowledge that Lynch has been given creative control of the show is a form of reassurance, a promise that even if the new Peaks narrative is baffling and bizarre, it’s at least intended. It’s not the work of slot-fillers trying to pad out an infinitely ongoing program it’s a creative mastermind trying to tell a specific story. But that story is once again leaving viewers at sea, trying to pick apart Lynch’s work for tiny clues about what they’re watching. We’re back in Dale Cooper’s position, wandering through a freshly revived world, and trying to catch up with the ways it’s moved on in his absence.                Image: Showtime  The problem with the new Peaks as of episode 4, though, is that we have so little basis for understanding who our audience avatar is right now. Is Cooper mentally impaired because he’s spent 25 years outside of time and space? Because he’s stuck in a false, constructed body? Because Bob claimed some part of him while stealing his identity? Or just because Lynch thinks it’s funny to have Kyle MacLachlan staggering around blank-faced, with a tie on his head and a dozen-word vocabulary? What are the stakes of the story at this point? What is the audience to make of a narrative shaped by a character who isn’t capable of anything but following orders, following glowing magical sigils, and repeating whatever he hears? Like us, Cooper seems to have virtually no way of interpreting what he’s seeing. For now, he’s just along for the ride.we have so little basis for understanding our audience avatarThere’s no reason to believe that old Agent Cooper will ever return to Twin Peaks. The brash, confident, charmingly oddball young man he was in 1990 is long gone, and with good reason, given what he’s been through. In the same sort of way, no revival could ever recapture what Twin Peaks meant to audiences in 1990, when it was all so new and fresh and strange, so unlike anything that had ever appeared on network television.But he’s still around in some form, still bouncing through the trials of a Lynchian world. What’s missing now is any sense that he can help us understand what those trials mean. 1990s Cooper was an active force in his own story. He helped us navigate his surroundings, and see them with humor and wonder. He claimed, perhaps wrongly, but still convincingly, that there was order somewhere in the chaos. It’s natural for us to want to return to a mode where he can actively participate in his own story, where he’s helping solve its mysteries, instead of acting as its biggest conundrum. But even with his humanity lost and his agency gone, he still represents us onscreen. Even when he’s free-floating through a haze of glass boxes and stop-motion nightmares, we’re still with him. We’re still all Agent Cooper, navigating the mystery, and waiting to see where this is all going.', year=2017, month=5, publication='Verge', category='Longform', digital=1, section=None, url=None)"
      ]
     },
     "execution_count": 61,
     "metadata": {},
     "output_type": "execute_result"
    }
   ],
   "source": [
    "df.first()"
   ]
  },
  {
   "cell_type": "code",
   "execution_count": 72,
   "metadata": {},
   "outputs": [
    {
     "name": "stdout",
     "output_type": "stream",
     "text": [
      "+--------------------+--------------------+-----------------+----------+--------------------+----+-----+-----------+--------+-------+-------+----+\n",
      "|                  id|               title|           author|      date|             content|year|month|publication|category|digital|section| url|\n",
      "+--------------------+--------------------+-----------------+----------+--------------------+----+-----+-----------+--------+-------+-------+----+\n",
      "|1.000000000000000000|Agent Cooper in T...| \n",
      "Tasha Robinson\n",
      "|2017-05-31|      And never m...|2017|    5|      Verge|Longform|      1|   null|null|\n",
      "|2.000000000000000000|   AI, the humanity!|     \n",
      "Sam Byford\n",
      "|2017-05-30|      AlphaGo’s v...|2017|    5|      Verge|Longform|      1|   null|null|\n",
      "|3.000000000000000000|   The Viral Machine|\n",
      "Kaitlyn Tiffany\n",
      "|2017-05-25|      Super Delux...|2017|    5|      Verge|Longform|      1|   null|null|\n",
      "|4.000000000000000000|How Anker is beat...|     \n",
      "Nick Statt\n",
      "|2017-05-22|      Steven Yang...|2017|    5|      Verge|Longform|      1|   null|null|\n",
      "|5.000000000000000000|Tour Black Panthe...|     \n",
      "Kwame Opam\n",
      "|2017-05-15|      Ahead of Bl...|2017|    5|      Verge|Longform|      1|   null|null|\n",
      "+--------------------+--------------------+-----------------+----------+--------------------+----+-----+-----------+--------+-------+-------+----+\n",
      "only showing top 5 rows\n",
      "\n"
     ]
    }
   ],
   "source": [
    "df.select(\"*\").show(5)    # we don't have url for all rows"
   ]
  },
  {
   "cell_type": "markdown",
   "metadata": {},
   "source": [
    "### Number of Non null values in each column"
   ]
  },
  {
   "cell_type": "code",
   "execution_count": 63,
   "metadata": {},
   "outputs": [
    {
     "name": "stdout",
     "output_type": "stream",
     "text": [
      "+------+------+------+------+-------+------+------+-----------+--------+-------+-------+-----+\n",
      "|    id| title|author|  date|content|  year| month|publication|category|digital|section|  url|\n",
      "+------+------+------+------+-------+------+------+-----------+--------+-------+-------+-----+\n",
      "|204135|204135|172000|191532| 191181|191532|191532|     196420|  168713| 193115|  74572|98796|\n",
      "+------+------+------+------+-------+------+------+-----------+--------+-------+-------+-----+\n",
      "\n"
     ]
    }
   ],
   "source": [
    "from pyspark.sql.functions import col, count, isnan, lit, sum\n",
    "  \n",
    "def count_not_null(c, nan_as_null=False):\n",
    "    \"\"\"Use conversion between boolean and integer\n",
    "    - False -> 0\n",
    "    - True -> 1\n",
    "    \"\"\"\n",
    "    pred = col(c).isNotNull() & (~isnan(c) if nan_as_null else lit(True))\n",
    "    return sum(pred.cast(\"integer\")).alias(c)\n",
    "\n",
    "df.agg(*[count_not_null(c) for c in df.columns]).show()"
   ]
  },
  {
   "cell_type": "markdown",
   "metadata": {},
   "source": [
    "we will later drop all those columns in which both title and content are empty"
   ]
  },
  {
   "cell_type": "markdown",
   "metadata": {},
   "source": [
    "## Data Preprocessing"
   ]
  },
  {
   "cell_type": "markdown",
   "metadata": {},
   "source": [
    "We only need id , title and content columns to perform our analysis so we are dropping rest of the columns"
   ]
  },
  {
   "cell_type": "code",
   "execution_count": 73,
   "metadata": {},
   "outputs": [
    {
     "name": "stdout",
     "output_type": "stream",
     "text": [
      "root\n",
      " |-- id: decimal(38,18) (nullable = true)\n",
      " |-- title: string (nullable = true)\n",
      " |-- content: string (nullable = true)\n",
      "\n"
     ]
    }
   ],
   "source": [
    "# we don't need all columns we just need 3 columns id, title, content\n",
    "\n",
    "columns_to_drop = ['author', 'date', 'year', 'month', 'url','conent','publication','_c0','digital', 'section','category']\n",
    "df = df.drop(*columns_to_drop)\n",
    "\n",
    "df.printSchema()"
   ]
  },
  {
   "cell_type": "code",
   "execution_count": 74,
   "metadata": {},
   "outputs": [
    {
     "name": "stdout",
     "output_type": "stream",
     "text": [
      "First title = \n",
      "Row(title='Agent Cooper in Twin Peaks is the audience: once delighted, now disintegrating')\n",
      "First content = \n",
      "Row(content='      And never more so than in Showtime’s new series revival Some spoilers ahead through episode 4 of season 3 of Twin Peaks. On May 21st, Showtime brought back David Lynch’s groundbreaking TV series Twin Peaks, and fulfilled a prophecy in the process. In the second season finale, back in 1991, the spirit of series-defining murder victim Laura Palmer told FBI special agent and series protagonist Dale Cooper, “I’ll see you again in 25 years.” That clip plays again in the first episode of Lynch’s Twin Peaks revival, as a reminder that decades have in fact gone by, Laura’s promise has been carried out, and a series canceled mid-story is back on the air.A lot has changed in 25 years. The original cast members, who are mostly back on board, have all aged heavily and visibly. Many of the characters have moved on in life, getting new jobs, forming families, or taking up new obsessions. But in the opening episode, Dale Cooper was still where the show left him in 1991: trapped in the spirit domain known as the Black Lodge, at the mercy of incomprehensible forces that behave in erratic, alien ways. In other words, he’s just like anyone who’s actually watching Twin Peaks. As the third season began, the audience was also stuck back in 1991, waiting to see whether we were going to move on from the show’s many long-gestating cliffhangers. And we were also at the mercy of the incomprehensible force that is David Lynch, with his erratic, alien storytelling methods.All protagonists are mediators who help tell audiences how to interpret the narrative around them, but Dale Cooper is something else entirely: he is the audience, stumbling through Lynch’s obscure vision, and mutating along with it. The show’s tone, budget, and format have all changed with the 2017 revival, and Cooper, too, has changed — more so than any other character on the show. But he’s changed in ways we should recognize. They’re the same ways we’ve changed, as Twin Peaks has progressed from era-defining hit to weird cable art-experiment. The old series followed Agent Cooper through the painful, awkward process of maturing as an agent and a man. And his development happened in parallel with the maturing of a TV audience that had to learn how to follow a new kind of story.All protagonists mediate their stories, but Dale Cooper is something else entirelyToday, viewers have more sophisticated expectations than they did in the 1990s. They expect long arcs, slow character development, and mysteries that may take hours of air time to explore, let alone to decode. But Showtime’s new series is still leaving viewers curious, frustrated, baffled, and without the tools to translate what they’re seeing — which is exactly what Agent Cooper seems to be feeling right now as well. Consider Cooper as he started Twin Peaks back in 1990, as a fresh-faced, perky outsider walking into a mid-sized mountain community with no idea what to expect. Like the audience, he was entranced by the town of Twin Peaks — its quirky people, its unexpected pleasures, the sheer vividness of everything around him. Yes, he was there to solve a murder, but he was endlessly confident about his ability to tackle any case. The audience felt the same natural confidence. We knew how TV murder mysteries went. We thought we knew exactly what to expect from that end of the story: some procedural details, some red herrings, some drama, and eventually a solution.                Image: ABC  But like Cooper, we were seduced and distracted by Twin Peaks’ unexpected pleasures, the way the town unfolded on-screen, with all its strange domestic soap opera dramas and oddball interactions. Like Coop, we found our fun in the unusual texture and color of the world David Lynch and Mark Frost built. In those early days, Twin Peaks was a popular fad — the two-hour pilot was the season’s highest-rated TV movie — and the popular way to appreciate it was by emulating Dale Cooper’s experience as much as possible. Lifestyle pieces proliferated in the media, tracking people who threw Peaks parties to watch the show while eating all the things Cooper rhapsodized about in the early episodes: stacks of doughnuts, cherry pie, coffee, and breakfast food. (“Nothing beats the taste sensation when maple syrup collides with ham!” he chirps in episode 4.) The audience didn’t just want to watch Cooper solving a mystery, they wanted to be him, experiencing his outsized cheer for the world.The audience didn’t just want to watch Cooper solving a mystery, they wanted to be himAs the story went on, though, the tone darkened. Cooper lost his Boy Scout enthusiasm for food and the smell of Douglas firs. As more details emerged in the Laura Palmer murder case, another victim surfaced, and the supernatural side of the story emerged, Twin Peaks stopped sending Cooper on wacky cosplay adventures to Canada, and letting him vet his clues with oddball psychic experiments. It started confronting him with unexpected, alarming experiences. He took the first one in stride: visiting the Black Lodge in a dream, he returned convinced that he’d solved the murder, and that all would be well once he remembered the solution. Like us, he didn’t really understand what was going on at that point of the story, but he was still optimistic, and still willing to roll with every strange new revelation. Then Cooper got shot. The second season of Twin Peaks opened with him bleeding on the ground, enduring the unhelpful attentions of “the world’s oldest waiter,” listening to a glowing giant who dispenses information without acknowledging that Cooper may not live to use it, and having a strained one-way conversation with his voice-activated tape recorder. The viewers suffered along with him, through excruciating events that seemed drawn out to the point of perversity. Suddenly, being Agent Dale Cooper wasn’t fun anymore. His confidence was punctured, and we were all baffled and helpless together.                Image: ABC  There are moments in season 2 where Cooper bounces back into form, but they’re outnumbered by events that exhaust and chasten him, visibly transforming him into a more solemn, internal man. Jean Renault held him hostage, beat him, and threatened to murder him, suggesting Cooper was the cause of the town’s growing darkness. His former FBI partner Windom Earle brought a new chaos to town, and revealed Cooper’s past failings. Cooper lost his FBI standing and his love interest. He saw Earle’s soul consumed in front of him. A murderous monster took his place in the outside world. By the time season 2 ended, the audience had seen Cooper frightened, powerless, and confused as much as it ever saw him confident and in control. He stopped being a motive force in the world, and became a passive object in his own story. The series’s cancellation left viewers just as rudderless and abandoned as he was.‘Twin Peaks’ was about a hero maturing, but also about how the world consumed and broke himCooper’s trend toward impotence over the course of Twin Peaks’ original series run made for an ambitious and personal story. In the 1990s, TV viewers weren’t used to long-arc serial dramas where the protagonist changed rapidly and irrevocably, the way protagonists are expected to in today’s stories. But while Twin Peaks’ arc was compelling to many of the fans who stuck with it, it was wearying and demoralizing as well. The ratings trended steadily and sharply downward, peaking at milestones — the second season premiere, the reveal of who killed Laura Palmer — but still plummeting from the early days. The ratings drop was a form of feedback from a viewership who, like Cooper, weren’t confident and eager anymore. They began rejecting the show as it rejected its early tone, and its early promise. As Twin Peaks developed, it became clear that it was about the maturing of a hero, but it was also about how the vast and incomprehensible aspects of his world claimed, consumed, and broke him. Viewers couldn’t be blamed for pulling away from that story.And as Lynch withdrew from the show, it became narratively muddled, inconsistent, and sometimes downright silly. Cooper’s story remains one relatively consistent throughline, but it’s a tragic one, in which a fan-favorite character, the voice and point of view of the series, loses his joy, his freedom, and his capacity to control his own life. And it became the story of an audience that flocked to the show for lively, quirky surprises, and wound up splintered, divided, and uncertain.                Image: Showtime  Showtime’s series launches with Agent Cooper as thoroughly broken as he’s ever been. The first two episodes find him still trapped in the Lodge, facing the shrieking spirit of Laura Palmer and an angry human-sized nervous system topped by a pulsing, talking brain. He’s ejected into space, threatened by an unseen force, and rescued by a blinded woman with unclear motives who helps him in unclear ways. Finally, he’s fed through an electrical socket into what seems to be a decoy body, living its own life until he takes it over. By episode 4 of the series, he’s stumbling around in a lobotomized daze, repeating whatever people say to him, bellowing “Help” at random strangers and “Helloooooo!” at slot machines. He’s confused, helpless, and only slowly regaining the tools he needs to function in this world.And so are we. The knowledge that Lynch has been given creative control of the show is a form of reassurance, a promise that even if the new Peaks narrative is baffling and bizarre, it’s at least intended. It’s not the work of slot-fillers trying to pad out an infinitely ongoing program it’s a creative mastermind trying to tell a specific story. But that story is once again leaving viewers at sea, trying to pick apart Lynch’s work for tiny clues about what they’re watching. We’re back in Dale Cooper’s position, wandering through a freshly revived world, and trying to catch up with the ways it’s moved on in his absence.                Image: Showtime  The problem with the new Peaks as of episode 4, though, is that we have so little basis for understanding who our audience avatar is right now. Is Cooper mentally impaired because he’s spent 25 years outside of time and space? Because he’s stuck in a false, constructed body? Because Bob claimed some part of him while stealing his identity? Or just because Lynch thinks it’s funny to have Kyle MacLachlan staggering around blank-faced, with a tie on his head and a dozen-word vocabulary? What are the stakes of the story at this point? What is the audience to make of a narrative shaped by a character who isn’t capable of anything but following orders, following glowing magical sigils, and repeating whatever he hears? Like us, Cooper seems to have virtually no way of interpreting what he’s seeing. For now, he’s just along for the ride.we have so little basis for understanding our audience avatarThere’s no reason to believe that old Agent Cooper will ever return to Twin Peaks. The brash, confident, charmingly oddball young man he was in 1990 is long gone, and with good reason, given what he’s been through. In the same sort of way, no revival could ever recapture what Twin Peaks meant to audiences in 1990, when it was all so new and fresh and strange, so unlike anything that had ever appeared on network television.But he’s still around in some form, still bouncing through the trials of a Lynchian world. What’s missing now is any sense that he can help us understand what those trials mean. 1990s Cooper was an active force in his own story. He helped us navigate his surroundings, and see them with humor and wonder. He claimed, perhaps wrongly, but still convincingly, that there was order somewhere in the chaos. It’s natural for us to want to return to a mode where he can actively participate in his own story, where he’s helping solve its mysteries, instead of acting as its biggest conundrum. But even with his humanity lost and his agency gone, he still represents us onscreen. Even when he’s free-floating through a haze of glass boxes and stop-motion nightmares, we’re still with him. We’re still all Agent Cooper, navigating the mystery, and waiting to see where this is all going.')\n",
      "Concatenated first title and content\n",
      "{'text': 'Agent Cooper in Twin Peaks is the audience: once delighted, now disintegrating       And never more so than in Showtime’s new series revival Some spoilers ahead through episode 4 of season 3 of Twin Peaks. On May 21st, Showtime brought back David Lynch’s groundbreaking TV series Twin Peaks, and fulfilled a prophecy in the process. In the second season finale, back in 1991, the spirit of series-defining murder victim Laura Palmer told FBI special agent and series protagonist Dale Cooper, “I’ll see you again in 25 years.” That clip plays again in the first episode of Lynch’s Twin Peaks revival, as a reminder that decades have in fact gone by, Laura’s promise has been carried out, and a series canceled mid-story is back on the air.A lot has changed in 25 years. The original cast members, who are mostly back on board, have all aged heavily and visibly. Many of the characters have moved on in life, getting new jobs, forming families, or taking up new obsessions. But in the opening episode, Dale Cooper was still where the show left him in 1991: trapped in the spirit domain known as the Black Lodge, at the mercy of incomprehensible forces that behave in erratic, alien ways. In other words, he’s just like anyone who’s actually watching Twin Peaks. As the third season began, the audience was also stuck back in 1991, waiting to see whether we were going to move on from the show’s many long-gestating cliffhangers. And we were also at the mercy of the incomprehensible force that is David Lynch, with his erratic, alien storytelling methods.All protagonists are mediators who help tell audiences how to interpret the narrative around them, but Dale Cooper is something else entirely: he is the audience, stumbling through Lynch’s obscure vision, and mutating along with it. The show’s tone, budget, and format have all changed with the 2017 revival, and Cooper, too, has changed — more so than any other character on the show. But he’s changed in ways we should recognize. They’re the same ways we’ve changed, as Twin Peaks has progressed from era-defining hit to weird cable art-experiment. The old series followed Agent Cooper through the painful, awkward process of maturing as an agent and a man. And his development happened in parallel with the maturing of a TV audience that had to learn how to follow a new kind of story.All protagonists mediate their stories, but Dale Cooper is something else entirelyToday, viewers have more sophisticated expectations than they did in the 1990s. They expect long arcs, slow character development, and mysteries that may take hours of air time to explore, let alone to decode. But Showtime’s new series is still leaving viewers curious, frustrated, baffled, and without the tools to translate what they’re seeing — which is exactly what Agent Cooper seems to be feeling right now as well. Consider Cooper as he started Twin Peaks back in 1990, as a fresh-faced, perky outsider walking into a mid-sized mountain community with no idea what to expect. Like the audience, he was entranced by the town of Twin Peaks — its quirky people, its unexpected pleasures, the sheer vividness of everything around him. Yes, he was there to solve a murder, but he was endlessly confident about his ability to tackle any case. The audience felt the same natural confidence. We knew how TV murder mysteries went. We thought we knew exactly what to expect from that end of the story: some procedural details, some red herrings, some drama, and eventually a solution.                Image: ABC  But like Cooper, we were seduced and distracted by Twin Peaks’ unexpected pleasures, the way the town unfolded on-screen, with all its strange domestic soap opera dramas and oddball interactions. Like Coop, we found our fun in the unusual texture and color of the world David Lynch and Mark Frost built. In those early days, Twin Peaks was a popular fad — the two-hour pilot was the season’s highest-rated TV movie — and the popular way to appreciate it was by emulating Dale Cooper’s experience as much as possible. Lifestyle pieces proliferated in the media, tracking people who threw Peaks parties to watch the show while eating all the things Cooper rhapsodized about in the early episodes: stacks of doughnuts, cherry pie, coffee, and breakfast food. (“Nothing beats the taste sensation when maple syrup collides with ham!” he chirps in episode 4.) The audience didn’t just want to watch Cooper solving a mystery, they wanted to be him, experiencing his outsized cheer for the world.The audience didn’t just want to watch Cooper solving a mystery, they wanted to be himAs the story went on, though, the tone darkened. Cooper lost his Boy Scout enthusiasm for food and the smell of Douglas firs. As more details emerged in the Laura Palmer murder case, another victim surfaced, and the supernatural side of the story emerged, Twin Peaks stopped sending Cooper on wacky cosplay adventures to Canada, and letting him vet his clues with oddball psychic experiments. It started confronting him with unexpected, alarming experiences. He took the first one in stride: visiting the Black Lodge in a dream, he returned convinced that he’d solved the murder, and that all would be well once he remembered the solution. Like us, he didn’t really understand what was going on at that point of the story, but he was still optimistic, and still willing to roll with every strange new revelation. Then Cooper got shot. The second season of Twin Peaks opened with him bleeding on the ground, enduring the unhelpful attentions of “the world’s oldest waiter,” listening to a glowing giant who dispenses information without acknowledging that Cooper may not live to use it, and having a strained one-way conversation with his voice-activated tape recorder. The viewers suffered along with him, through excruciating events that seemed drawn out to the point of perversity. Suddenly, being Agent Dale Cooper wasn’t fun anymore. His confidence was punctured, and we were all baffled and helpless together.                Image: ABC  There are moments in season 2 where Cooper bounces back into form, but they’re outnumbered by events that exhaust and chasten him, visibly transforming him into a more solemn, internal man. Jean Renault held him hostage, beat him, and threatened to murder him, suggesting Cooper was the cause of the town’s growing darkness. His former FBI partner Windom Earle brought a new chaos to town, and revealed Cooper’s past failings. Cooper lost his FBI standing and his love interest. He saw Earle’s soul consumed in front of him. A murderous monster took his place in the outside world. By the time season 2 ended, the audience had seen Cooper frightened, powerless, and confused as much as it ever saw him confident and in control. He stopped being a motive force in the world, and became a passive object in his own story. The series’s cancellation left viewers just as rudderless and abandoned as he was.‘Twin Peaks’ was about a hero maturing, but also about how the world consumed and broke himCooper’s trend toward impotence over the course of Twin Peaks’ original series run made for an ambitious and personal story. In the 1990s, TV viewers weren’t used to long-arc serial dramas where the protagonist changed rapidly and irrevocably, the way protagonists are expected to in today’s stories. But while Twin Peaks’ arc was compelling to many of the fans who stuck with it, it was wearying and demoralizing as well. The ratings trended steadily and sharply downward, peaking at milestones — the second season premiere, the reveal of who killed Laura Palmer — but still plummeting from the early days. The ratings drop was a form of feedback from a viewership who, like Cooper, weren’t confident and eager anymore. They began rejecting the show as it rejected its early tone, and its early promise. As Twin Peaks developed, it became clear that it was about the maturing of a hero, but it was also about how the vast and incomprehensible aspects of his world claimed, consumed, and broke him. Viewers couldn’t be blamed for pulling away from that story.And as Lynch withdrew from the show, it became narratively muddled, inconsistent, and sometimes downright silly. Cooper’s story remains one relatively consistent throughline, but it’s a tragic one, in which a fan-favorite character, the voice and point of view of the series, loses his joy, his freedom, and his capacity to control his own life. And it became the story of an audience that flocked to the show for lively, quirky surprises, and wound up splintered, divided, and uncertain.                Image: Showtime  Showtime’s series launches with Agent Cooper as thoroughly broken as he’s ever been. The first two episodes find him still trapped in the Lodge, facing the shrieking spirit of Laura Palmer and an angry human-sized nervous system topped by a pulsing, talking brain. He’s ejected into space, threatened by an unseen force, and rescued by a blinded woman with unclear motives who helps him in unclear ways. Finally, he’s fed through an electrical socket into what seems to be a decoy body, living its own life until he takes it over. By episode 4 of the series, he’s stumbling around in a lobotomized daze, repeating whatever people say to him, bellowing “Help” at random strangers and “Helloooooo!” at slot machines. He’s confused, helpless, and only slowly regaining the tools he needs to function in this world.And so are we. The knowledge that Lynch has been given creative control of the show is a form of reassurance, a promise that even if the new Peaks narrative is baffling and bizarre, it’s at least intended. It’s not the work of slot-fillers trying to pad out an infinitely ongoing program it’s a creative mastermind trying to tell a specific story. But that story is once again leaving viewers at sea, trying to pick apart Lynch’s work for tiny clues about what they’re watching. We’re back in Dale Cooper’s position, wandering through a freshly revived world, and trying to catch up with the ways it’s moved on in his absence.                Image: Showtime  The problem with the new Peaks as of episode 4, though, is that we have so little basis for understanding who our audience avatar is right now. Is Cooper mentally impaired because he’s spent 25 years outside of time and space? Because he’s stuck in a false, constructed body? Because Bob claimed some part of him while stealing his identity? Or just because Lynch thinks it’s funny to have Kyle MacLachlan staggering around blank-faced, with a tie on his head and a dozen-word vocabulary? What are the stakes of the story at this point? What is the audience to make of a narrative shaped by a character who isn’t capable of anything but following orders, following glowing magical sigils, and repeating whatever he hears? Like us, Cooper seems to have virtually no way of interpreting what he’s seeing. For now, he’s just along for the ride.we have so little basis for understanding our audience avatarThere’s no reason to believe that old Agent Cooper will ever return to Twin Peaks. The brash, confident, charmingly oddball young man he was in 1990 is long gone, and with good reason, given what he’s been through. In the same sort of way, no revival could ever recapture what Twin Peaks meant to audiences in 1990, when it was all so new and fresh and strange, so unlike anything that had ever appeared on network television.But he’s still around in some form, still bouncing through the trials of a Lynchian world. What’s missing now is any sense that he can help us understand what those trials mean. 1990s Cooper was an active force in his own story. He helped us navigate his surroundings, and see them with humor and wonder. He claimed, perhaps wrongly, but still convincingly, that there was order somewhere in the chaos. It’s natural for us to want to return to a mode where he can actively participate in his own story, where he’s helping solve its mysteries, instead of acting as its biggest conundrum. But even with his humanity lost and his agency gone, he still represents us onscreen. Even when he’s free-floating through a haze of glass boxes and stop-motion nightmares, we’re still with him. We’re still all Agent Cooper, navigating the mystery, and waiting to see where this is all going.'}\n"
     ]
    }
   ],
   "source": [
    "# we want to combine title and cotents of title and content column \n",
    "#also we need to maintain id's of documents for later identification\n",
    "\n",
    "import pyspark.sql.functions as F\n",
    "\n",
    "df2 = df.select('id',F.concat(F.col('title'), F.lit(\" \"), F.col('content')))\n",
    "df2 = df2.withColumnRenamed('concat(title,  , content)', 'text')\n",
    "\n",
    "print(\"First title = \")\n",
    "print(df.select('title').first())\n",
    "print(\"First content = \")\n",
    "print(df.select('content').first())\n",
    "print(\"Concatenated first title and content\")\n",
    "print(df2.select('text').first().asDict())"
   ]
  },
  {
   "cell_type": "code",
   "execution_count": 79,
   "metadata": {},
   "outputs": [
    {
     "name": "stdout",
     "output_type": "stream",
     "text": [
      "+------+------+\n",
      "|    id|  text|\n",
      "+------+------+\n",
      "|204135|191181|\n",
      "+------+------+\n",
      "\n"
     ]
    }
   ],
   "source": [
    "def count_not_null(c, nan_as_null=False):\n",
    "    \"\"\"Use conversion between boolean and integer\n",
    "    - False -> 0\n",
    "    - True -> 1\n",
    "    \"\"\"\n",
    "    pred = col(c).isNotNull() & (~isnan(c) if nan_as_null else lit(True))\n",
    "    return sum(pred.cast(\"integer\")).alias(c)\n",
    "\n",
    "df2.agg(*[count_not_null(c) for c in df2.columns]).show()"
   ]
  },
  {
   "cell_type": "markdown",
   "metadata": {},
   "source": [
    "We see that we have some null values in text column so we will drop them"
   ]
  },
  {
   "cell_type": "code",
   "execution_count": 83,
   "metadata": {},
   "outputs": [],
   "source": [
    "df2 = df2.na.drop(\"any\")"
   ]
  },
  {
   "cell_type": "code",
   "execution_count": 84,
   "metadata": {},
   "outputs": [
    {
     "name": "stdout",
     "output_type": "stream",
     "text": [
      "+------+------+\n",
      "|    id|  text|\n",
      "+------+------+\n",
      "|191181|191181|\n",
      "+------+------+\n",
      "\n"
     ]
    }
   ],
   "source": [
    "def count_not_null(c, nan_as_null=False):\n",
    "    \"\"\"Use conversion between boolean and integer\n",
    "    - False -> 0\n",
    "    - True -> 1\n",
    "    \"\"\"\n",
    "    pred = col(c).isNotNull() & (~isnan(c) if nan_as_null else lit(True))\n",
    "    return sum(pred.cast(\"integer\")).alias(c)\n",
    "\n",
    "df2.agg(*[count_not_null(c) for c in df2.columns]).show()"
   ]
  },
  {
   "cell_type": "code",
   "execution_count": 75,
   "metadata": {
    "scrolled": true
   },
   "outputs": [
    {
     "name": "stdout",
     "output_type": "stream",
     "text": [
      "+--------------------+--------------------+\n",
      "|                  id|                text|\n",
      "+--------------------+--------------------+\n",
      "|1.000000000000000000|Agent Cooper in T...|\n",
      "|2.000000000000000000|AI, the humanity!...|\n",
      "|3.000000000000000000|The Viral Machine...|\n",
      "|4.000000000000000000|How Anker is beat...|\n",
      "|5.000000000000000000|Tour Black Panthe...|\n",
      "+--------------------+--------------------+\n",
      "only showing top 5 rows\n",
      "\n"
     ]
    }
   ],
   "source": [
    "df2.show(5)"
   ]
  },
  {
   "cell_type": "markdown",
   "metadata": {},
   "source": [
    "### Setting up the Data preprocessing Pipeline \n",
    "1. Convert the raw text into sparknlp's Document type using DocumentAssembler \n",
    "2. SentenceDetector - splits the document into sentences. \n",
    "3. Tokenizer - splits a document into tokens (words).\n",
    "4. Normalizer - Removes all dirty characters from text following a regex pattern and transforms words based on a provided dictionary\n",
    "4. StopWordsRemover - Removes all the stop words. \n",
    "5. Lemmatizer - converts words to their base forms. eg: studying , studies, studied all are converted to study. "
   ]
  },
  {
   "cell_type": "code",
   "execution_count": 76,
   "metadata": {},
   "outputs": [
    {
     "name": "stdout",
     "output_type": "stream",
     "text": [
      "lemma_antbnc download started this may take some time.\n",
      "Approximate size to download 907.6 KB\n",
      "[OK!]\n"
     ]
    }
   ],
   "source": [
    "from pyspark.ml import Pipeline\n",
    "\n",
    "document_assembler = DocumentAssembler() \\\n",
    "                        .setInputCol('text') \\\n",
    "                        .setOutputCol('document') \n",
    "\n",
    "sentenceDetector = SentenceDetector() \\\n",
    "                        .setInputCols(['document']) \\\n",
    "                        .setOutputCol('sentences')\n",
    "\n",
    "tokenizer = Tokenizer() \\\n",
    "                .setInputCols(['sentences']) \\\n",
    "                .setOutputCol('token') \\\n",
    "                .setContextChars(['(', ')', '?', '!','\"','-',\"'\",' ']) \n",
    "\n",
    "normalizer = Normalizer() \\\n",
    "                .setInputCols(['token']) \\\n",
    "                .setOutputCol('normal')\n",
    "\n",
    "\n",
    "\n",
    "stop_words = StopWordsCleaner() \\\n",
    "        .setInputCols([\"token\"]) \\\n",
    "        .setOutputCol(\"cleanTokens\")\n",
    "\n",
    "lemmatizer = LemmatizerModel.pretrained(name=\"lemma_antbnc\", lang=\"en\") \\\n",
    "                .setInputCols(['cleanTokens']) \\\n",
    "                .setOutputCol('lemma') \n",
    "                \n",
    "\n",
    "finisher = Finisher() \\\n",
    "    .setInputCols([\"lemma\"]) \\\n",
    "    .setIncludeMetadata(False)\n",
    "\n",
    "\n",
    "preprocess_pipeline = Pipeline(stages = [document_assembler, sentenceDetector, tokenizer,normalizer, stop_words, lemmatizer,finisher])\n",
    "\n"
   ]
  },
  {
   "cell_type": "code",
   "execution_count": 9,
   "metadata": {},
   "outputs": [],
   "source": [
    "preprocess_model = preprocess_pipeline.fit(df2)\n",
    "\n",
    "transformed_df = preprocess_model.transform(df2)\n"
   ]
  },
  {
   "cell_type": "code",
   "execution_count": 131,
   "metadata": {},
   "outputs": [
    {
     "name": "stdout",
     "output_type": "stream",
     "text": [
      "+-----+--------------------+--------------------+\n",
      "|   id|                text|      finished_lemma|\n",
      "+-----+--------------------+--------------------+\n",
      "|73471|Patriots Day Is B...|[Patriots, Day, B...|\n",
      "|73472|A Break in the Se...|[Break, Search, O...|\n",
      "|73474|Obama’s Ingenious...|[Obama’s, Ingenio...|\n",
      "|73475|Donald Trump Meet...|[Donald, Trump, M...|\n",
      "|73476|Trump: ’I Think’ ...|[Trump:, ’I, Thin...|\n",
      "|73477|Seth Meyers Quest...|[Seth, Meyers, Qu...|\n",
      "|73478|Obama Frames His ...|[Obama, Frames, E...|\n",
      "|73479|The Trump Adminis...|[Trump, Administr...|\n",
      "|73484|The Longstanding ...|[Longstanding, Cr...|\n",
      "|73485|The Atlantic Dail...|[Atlantic, Daily:...|\n",
      "+-----+--------------------+--------------------+\n",
      "only showing top 10 rows\n",
      "\n"
     ]
    }
   ],
   "source": [
    "#transformed_df.printSchema()\n",
    "\n",
    "# Now we can notice the difference between preprocessed text and orevious text\n",
    "\n",
    "transformed_df.show(10)"
   ]
  },
  {
   "cell_type": "code",
   "execution_count": 58,
   "metadata": {},
   "outputs": [
    {
     "data": {
      "text/plain": [
       "Row(finished_lemma=['Patriots', 'Day', 'Best', 'Digs', 'Past', 'Heroism', 'Patriots', 'Day,', 'Peter', 'Berg’s', 'new', 'thriller', 'recreate', '2013', 'Boston', 'Marathon', 'bomb', 'ensuing', 'manhunt', 'follow', 'it,', 'surprisingly', 'oblique,', 'morally', 'ambiguous', 'movie', 'typically', 'straightforward', 'filmmaker.', 'Patriots', 'Day', 'take', 'unexpectedly', 'cynical', 'view', 'chaos,', 'rash', 'bureaucratic', 'infighting', 'follow', 'bomb', '—', 'question', 'whether', 'Berg’s', 'intend', 'message.', 'grim', 'run', 'time,', 'movie', 'celebrate', 'man', 'ground', 'help', 'bring', 'bomber', 'justice,', 'it’s', 'glimpse', 'something', 'complicated', 'jingoism', 'really', 'linger.', 'scene', 'good', 'illustrate', 'dichotomy', 'come', 'late', 'Patriots', 'Day.', 'search', 'one', 'bombers,', 'Dzhokhar', 'Tsarnaev,', 'intensifies,', 'brother’s', 'wife', 'Katherine', '(', 'Melissa', 'Benoist', ')', 'bring', 'interrogation', 'connection', 'case.', 'ask', 'lawyer,', 'protest', '“has', 'rights,”', 'steely', 'interviewer', '(', 'Khandi', 'Alexander', ')', 'tuts,', '“Honey,', 'ain’t', 'get', 'shit.', '”', 'It’s', 'Hollywood', 'line', 'intend', 'provoke', 'big', 'cheer', 'audience,', 'despite', 'queasy', 'legal', 'undertones.', 'film', 'present', '—', 'cheesy', 'line.', 'question', 'go', 'nowhere,', 'interrogator', 'exit', 'shrug', 'movie', 'note', 'Katherine', 'never', 'charge', 'crime.', 'Patriots', 'Day', 'fill', 'kind', 'bluster,', 'film’s', 'compel', 'moment', 'serve', 'undercut', 'it.', 'Deepwater', 'Horizon', 'Stays', 'Close', 'Surface,', 'Working', 'interest', 'theme', 'man', 'center', 'movie,', 'Boston', 'Police', 'Sergeant', 'Tommy', 'Saunders,', 'fictional', 'character', 'invent', 'serve', 'audience’s', 'eye', 'ear', 'every', 'major', 'turn', 'point', 'attacks.', 'He’s', 'play', 'Mark', 'Wahlberg,', 'polestar', 'Berg’s', 'new', 'genre', 'storytelling', 'play', 'mouthy', 'hero', 'center', 'Lone', 'Survivor', '(', '2013', ')', 'Deepwater', 'Horizon', '(', '2016', ')', 'Patriots', 'Day.', 'Unlike', 'films,', 'Wahlberg’s', 'character', 'Patriots', 'Day', 'didn’t', 'really', 'exist,', 'often', 'come', 'across', 'bundle', 'screenwriting', 'clichés.', 'He’s', 'nurse', 'bum', 'knee', 'recently', 'demote', 'due', 'insubordination,', 'somehow', 'term', 'every', 'cop,', 'uniformed', 'otherwise,', 'city.', 'film', 'focus', 'Saunders,', 'mostly', 'is,', 'feel', 'like', 'straight', 'recreation', 'traumatic', 'event', 'occur', 'less', 'four', 'year', 'ago.', 'Berg', 'largely', 'well', 'avoid', 'sensationalizing', '2013', 'bombing,', 'kill', '3', 'wounded', '264', 'others,', 'subsequent', 'manhunt', 'claim', 'life', 'police', 'officer.', 'point', 'Patriots', 'Day', 'feel', 'like', 'glitzy', 'action', 'movie', 'gory', 'piece', 'horror.', 'violence', 'day', 'linger', 'on,', 'outside', 'effort', 'make', 'victim', 'feel', 'like', 'real', 'people', 'depict', 'snippet', 'life', 'beforehand.', 'Wahlberg,', 'part,', 'can’t', 'help', 'make', 'Saunders', 'feel', 'like', 'bit', 'stereotype', 'he’s', 'movie', 'cop', 'film', 'that’s', 'otherwise', 'seek', 'nuance.', 'Saunders,', 'seems,', 'suppose', 'stand', 'generally', 'lovable,', 'belligerent', 'Boston', 'spirit', 'prevail', 'day', 'marathon,', 'Berg', 'drill', 'point', 'home', 'far', 'many', 'times.', 'bit', 'work', '—', 'immediate', 'aftermath', 'bombs,', 'Wahlberg', 'successfully', 'communicate', 'angry', 'shake', 'Saunders', 'is,', 'rather', 'switch', 'hero', 'mode.', 'decent', 'job', 'sell', 'trauma,', 'hefty', 'attitude', 'returns,', 'Patriots', 'Day', 'snap', 'back', 'severe', 'unreality.', 'That’s', 'bad,', 'since', 'film', 'fascinating', 'faithfully', 'convey', 'confusion', 'day', 'bombing,', 'differ', 'opinion', 'clash', 'egos.', 'FBI,', 'lead', 'agent', 'Richard', 'DesLauriers', '(', 'Kevin', 'Bacon', ')', 'take', 'case,', 'recreat', 'block', 'attack', 'bomb', 'inside', 'gigantic', 'warehouse', 'comb', 'surveillance', 'video', 'clues.', 'Boston', 'Police', 'Commissioner', 'Ed', 'Davis', '(', 'John', 'Goodman', ')', 'Massachusetts', 'Governor', 'Deval', 'Patrick', '(', 'Michael', 'Beach', ')', 'Boston', 'Mayor', 'Thomas', 'Menino', '(', 'Vincent', 'Curatola', ')', 'gather', 'offer', 'guidance', 'case.', 'Saunders', 'present', 'too,', 'reason,', 'mostly', 'provide', 'expertise', 'business', 'around', 'Boylston', 'Street.', 'thorny,', 'mucky,', 'debate', 'play', 'manhunt', 'good', 'part', 'film.', 'Berg', 'accurately', 'show', 'DesLauriers', 'agonizing', 'whether', 'release', 'picture', 'Tsarnaev', 'brother', 'glean', 'surveillance', 'camera', 'he’s', 'fully', 'substantiate', 'they’re', 'bomber', 'hand', 'eventually', 'force', 'leak', 'media.', 'set', 'action', 'series', 'event', 'lead', 'deadly', 'shootout', 'Tsarnaev', 'brother', 'Watertown', '(', 'J.', 'K.', 'Simmons', 'play', 'police', 'sergeant', 'there).', 'Berg', 'wise', 'delve', 'utter', 'chaos', 'manhunt,', 'include', 'brief,', 'informal', 'declaration', 'martial', 'law', 'bizarre,', 'bloody', 'standoff', 'brother', 'see', 'lob', 'pipe', 'bomb', 'cop', 'cars.', 'It’s', 'bedlam,', 'word', '—', 'total', 'disorder', 'madness,', 'kind', 'violence', 'fear', 'terrorism', 'intend', 'provoke,', 'even', 'try', 'stop', 'it.', 'Boston', 'PD’s', 'effort', 'capture', 'Tsarnaev', 'brother', 'justly', 'depict', 'heroic,', 'it’s', 'crazed', 'random', 'chain', 'events,', 'empty,', 'angry', 'posture', 'stick', 'worthy', 'analysis.', 'Berg', 'dig', 'deeper,', 'great', 'film', 'hand', 'stands,', 'he’s', 'deliver', 'rote,', 'occasionally', 'misfire.'])"
      ]
     },
     "execution_count": 58,
     "metadata": {},
     "output_type": "execute_result"
    }
   ],
   "source": [
    "transformed_df.select('finished_lemma').first()"
   ]
  },
  {
   "cell_type": "markdown",
   "metadata": {},
   "source": [
    "### Since considering all words for the training would be expensive we will consider only first 100 words from each article \n",
    "We are making an assumption that the main content of the article is somewhat understood by first 100 words.\n",
    "We are considering words of length greater than or equal to 3 as words of length less than 3 may not be useful"
   ]
  },
  {
   "cell_type": "code",
   "execution_count": 87,
   "metadata": {},
   "outputs": [],
   "source": [
    "def filter100words(row):\n",
    "    wordList = row\n",
    "    newWordList = []\n",
    "    i = 0\n",
    "\n",
    "    while (len(newWordList) < 100):\n",
    "        \n",
    "        if i >= len(wordList):\n",
    "            break\n",
    "        if len(wordList[i]) >= 3:\n",
    "            newWordList.append(wordList[i])\n",
    "        i += 1 \n",
    "        \n",
    "    return newWordList\n",
    "    \n"
   ]
  },
  {
   "cell_type": "code",
   "execution_count": 88,
   "metadata": {},
   "outputs": [],
   "source": [
    "from pyspark.sql.types import *\n",
    "\n",
    "udfSomeFunc = F.udf(filter100words, ArrayType(StringType()))\n",
    "final_df = transformed_df.withColumn(\"final_words\", udfSomeFunc(\"finished_lemma\"))"
   ]
  },
  {
   "cell_type": "code",
   "execution_count": 89,
   "metadata": {},
   "outputs": [
    {
     "name": "stdout",
     "output_type": "stream",
     "text": [
      "root\n",
      " |-- id: string (nullable = true)\n",
      " |-- text: string (nullable = true)\n",
      " |-- finished_lemma: array (nullable = true)\n",
      " |    |-- element: string (containsNull = true)\n",
      " |-- final_words: array (nullable = true)\n",
      " |    |-- element: string (containsNull = true)\n",
      "\n"
     ]
    }
   ],
   "source": [
    "final_df.printSchema()"
   ]
  },
  {
   "cell_type": "code",
   "execution_count": 90,
   "metadata": {},
   "outputs": [],
   "source": [
    "final_df = final_df.drop(\"text\", \"finished_lemma\")"
   ]
  },
  {
   "cell_type": "code",
   "execution_count": 91,
   "metadata": {},
   "outputs": [
    {
     "name": "stdout",
     "output_type": "stream",
     "text": [
      "+-----+--------------------+\n",
      "|   id|         final_words|\n",
      "+-----+--------------------+\n",
      "|73471|[Patriots, Day, B...|\n",
      "|73472|[Break, Search, O...|\n",
      "|73474|[Obama’s, Ingenio...|\n",
      "|73475|[Donald, Trump, M...|\n",
      "|73476|[Trump:, Think’, ...|\n",
      "|73477|[Seth, Meyers, Qu...|\n",
      "|73478|[Obama, Frames, E...|\n",
      "|73479|[Trump, Administr...|\n",
      "|73484|[Longstanding, Cr...|\n",
      "|73485|[Atlantic, Daily:...|\n",
      "|73486|[Pledge, Pentagon...|\n",
      "|73487|[Atlantic, Politi...|\n",
      "|73488|[Contradictions, ...|\n",
      "|73489|[Sanctions, Skept...|\n",
      "|73490|[Baltimore, Polic...|\n",
      "|73491|[Young, Pope, Ima...|\n",
      "|73492|[DeVos, Hearings:...|\n",
      "|73493|[Donald, Trump, S...|\n",
      "|73494|[‘One-Stop, Shop’...|\n",
      "|73495|[Rich, Students, ...|\n",
      "+-----+--------------------+\n",
      "only showing top 20 rows\n",
      "\n"
     ]
    }
   ],
   "source": [
    "final_df.show()"
   ]
  },
  {
   "cell_type": "code",
   "execution_count": 92,
   "metadata": {},
   "outputs": [
    {
     "data": {
      "text/plain": [
       "Row(id='73471', final_words=['Patriots', 'Day', 'Best', 'Digs', 'Past', 'Heroism', 'Patriots', 'Day,', 'Peter', 'Berg’s', 'new', 'thriller', 'recreate', '2013', 'Boston', 'Marathon', 'bomb', 'ensuing', 'manhunt', 'follow', 'it,', 'surprisingly', 'oblique,', 'morally', 'ambiguous', 'movie', 'typically', 'straightforward', 'filmmaker.', 'Patriots', 'Day', 'take', 'unexpectedly', 'cynical', 'view', 'chaos,', 'rash', 'bureaucratic', 'infighting', 'follow', 'bomb', 'question', 'whether', 'Berg’s', 'intend', 'message.', 'grim', 'run', 'time,', 'movie', 'celebrate', 'man', 'ground', 'help', 'bring', 'bomber', 'justice,', 'it’s', 'glimpse', 'something', 'complicated', 'jingoism', 'really', 'linger.', 'scene', 'good', 'illustrate', 'dichotomy', 'come', 'late', 'Patriots', 'Day.', 'search', 'one', 'bombers,', 'Dzhokhar', 'Tsarnaev,', 'intensifies,', 'brother’s', 'wife', 'Katherine', 'Melissa', 'Benoist', 'bring', 'interrogation', 'connection', 'case.', 'ask', 'lawyer,', 'protest', '“has', 'rights,”', 'steely', 'interviewer', 'Khandi', 'Alexander', 'tuts,', '“Honey,', 'ain’t', 'get'])"
      ]
     },
     "execution_count": 92,
     "metadata": {},
     "output_type": "execute_result"
    }
   ],
   "source": [
    "final_df.first()"
   ]
  },
  {
   "cell_type": "markdown",
   "metadata": {},
   "source": [
    "### Making a countvectorizer \n",
    "\n",
    "**Countvectorizer is a sparse matrix compression technique which works by creating a vocabulary of words and giving numerical indexes to them. The numerical index is used to replace the actual word.**\n",
    "Countvectorizer is matrix with all unique words in rows and all documents in columns with each cell representing the frequency of that word in that document. \n",
    "Since this is a sparse matrix , we use library functions which are optimized to store spaarse matrices. "
   ]
  },
  {
   "cell_type": "code",
   "execution_count": 96,
   "metadata": {},
   "outputs": [],
   "source": [
    "from pyspark.ml.feature import CountVectorizer , CountVectorizerModel\n",
    "\n",
    "cv = CountVectorizer(inputCol='final_words', outputCol='features', vocabSize=10000, minDF=3.0)"
   ]
  },
  {
   "cell_type": "markdown",
   "metadata": {},
   "source": [
    "During the fitting process, CountVectorizer will select the top vocabSize words ordered by term frequency across the corpus. An optional parameter minDF also affects the fitting process by specifying the minimum number (or fraction if < 1.0) of documents a term must appear in to be included in the vocabulary. Another optional binary toggle parameter controls the output vector. If set to true all nonzero counts are set to 1. This is especially useful for discrete probabilistic models that model binary, rather than integer, counts."
   ]
  },
  {
   "cell_type": "code",
   "execution_count": 97,
   "metadata": {
    "scrolled": false
   },
   "outputs": [],
   "source": [
    "# train the model \n",
    "\n",
    "cv_model = cv.fit(final_df.limit(10000))\n",
    "\n",
    "# transform the data. Output column name will be features.\n",
    "\n",
    "vectorized_tokens = cv_model.transform(final_df.limit(10000))"
   ]
  },
  {
   "cell_type": "markdown",
   "metadata": {},
   "source": [
    "## LDA - Latent Dirichlet Allocation\n",
    "he latent Dirichlet allocation (LDA) is a generative statistical model that allows sets of observations to be explained by unobserved groups that explain why some parts of the data are similar. and\n",
    "\n",
    "We have to input the number of topics it categorizes some relevant keywords into each topic. \n",
    "This could be useful in cases like : we want to know about all the important events happened in 2018 in India from a large bunch of news articles. \n",
    "\n",
    "Eg output: \n",
    "- topic 1 : President, parliament, prime minister, election, budget. \n",
    "- topic 2 : Criclet, World cup, India, lost, ... \n"
   ]
  },
  {
   "cell_type": "code",
   "execution_count": 98,
   "metadata": {},
   "outputs": [
    {
     "name": "stdout",
     "output_type": "stream",
     "text": [
      "The lower bound on the log likelihood of the entire corpus: -4695365.008124288\n",
      "The upper bound on perplexity: 8.155200786666958\n"
     ]
    }
   ],
   "source": [
    "from pyspark.ml.clustering import LDA\n",
    "num_topics = 10\n",
    "lda = LDA(k=num_topics, maxIter=100)\n",
    "model = lda.fit(vectorized_tokens)\n",
    "ll = model.logLikelihood(vectorized_tokens)\n",
    "lp = model.logPerplexity(vectorized_tokens)\n",
    "print(\"The lower bound on the log likelihood of the entire corpus: \" + str(ll))\n",
    "print(\"The upper bound on perplexity: \" + str(lp))"
   ]
  },
  {
   "cell_type": "code",
   "execution_count": 99,
   "metadata": {},
   "outputs": [
    {
     "name": "stdout",
     "output_type": "stream",
     "text": [
      "topic: 0\n",
      "*************************\n",
      "['student', 'school', 'college', 'University', 'percent', 'high', 'year', 'education', 'new', 'black']\n",
      "*************************\n",
      "topic: 1\n",
      "*************************\n",
      "['Please', 'ads.', 'write', 'stories,', 'follow', 'continue', 'step', 'block', 'great', 'display']\n",
      "*************************\n",
      "topic: 2\n",
      "*************************\n",
      "['Cohen', 'discussions,', 'Fueling', 'Capsule”', 'Activists', '“Trump', 'Trump?”', 'transition', '“How', 'Much']\n",
      "*************************\n",
      "topic: 3\n",
      "*************************\n",
      "['Trump', 'want', 'say', 'one', 'receive', 'update', 'partner', 'make', 'sponsors.', 'Donald']\n",
      "*************************\n",
      "topic: 4\n",
      "*************************\n",
      "['generic', 'Affleck', 'FDA', 'petition', 'pharmaceutical', 'Flynn’s', 'Cohen', 'frequent', 'mechanical', 'Florida']\n",
      "*************************\n",
      "topic: 5\n",
      "*************************\n",
      "['Sims', 'David', 'Stewart', 'film', 'Week', 'Spencer', 'Samantha', 'Bee', 'Kornhaber', 'new']\n",
      "*************************\n",
      "topic: 6\n",
      "*************************\n",
      "['police', 'officer', 'shoot', 'Police', 'kill', 'update', 'receive', 'gun', 'say', 'partner']\n",
      "*************************\n",
      "topic: 7\n",
      "*************************\n",
      "['Saudi', 'Arabia', 'Iran', 'Iranian', 'Tehran', 'Reed', 'Shiite', 'execution', 'relation', 'Iran’s']\n",
      "*************************\n",
      "topic: 8\n",
      "*************************\n",
      "['Apple', 'coal', 'carbon', 'iPhone', 'Carl’s', 'Brownback', 'Kansas', 'Las', 'felon', 'dioxide']\n",
      "*************************\n",
      "topic: 9\n",
      "*************************\n",
      "['song', 'reader', 'hello@theatlantic.', 'love', 'like', 'cover', 'film', 'music', 'please', 'Track']\n",
      "*************************\n"
     ]
    }
   ],
   "source": [
    "# extract vocabulary from CountVectorizer\n",
    "vocab = cv_model.vocabulary\n",
    "topics = model.describeTopics()   \n",
    "topics_rdd = topics.rdd\n",
    "topics_words = topics_rdd\\\n",
    "       .map(lambda row: row['termIndices'])\\\n",
    "       .map(lambda idx_list: [vocab[idx] for idx in idx_list])\\\n",
    "       .collect()\n",
    "for idx, topic in enumerate(topics_words):\n",
    "    print(\"topic: {}\".format(idx))\n",
    "    print(\"*\"*25)\n",
    "    print(topic)\n",
    "    print(\"*\"*25)"
   ]
  },
  {
   "cell_type": "markdown",
   "metadata": {},
   "source": [
    "## K-Means"
   ]
  },
  {
   "cell_type": "code",
   "execution_count": 100,
   "metadata": {},
   "outputs": [],
   "source": [
    "from pyspark.ml.feature import HashingTF, IDF\n",
    "\n",
    "\n",
    "hashingTF = HashingTF(inputCol = \"final_words\", outputCol = \"rawFeatures\", numFeatures=2000)\n",
    "idf = IDF(inputCol=\"rawFeatures\", outputCol=\"features\", minDocFreq=5)"
   ]
  },
  {
   "cell_type": "code",
   "execution_count": 101,
   "metadata": {},
   "outputs": [],
   "source": [
    "from pyspark.ml.clustering import KMeans\n",
    "\n",
    "kmeans = KMeans(k=10).setMaxIter(200)"
   ]
  },
  {
   "cell_type": "code",
   "execution_count": 102,
   "metadata": {},
   "outputs": [],
   "source": [
    "kmeansPipeline = Pipeline(stages = [hashingTF, idf, kmeans])\n",
    "\n",
    "model = kmeansPipeline.fit(final_df.limit(10000))\n",
    "\n",
    "results = model.transform(final_df.limit(10000))"
   ]
  },
  {
   "cell_type": "code",
   "execution_count": 103,
   "metadata": {},
   "outputs": [
    {
     "name": "stdout",
     "output_type": "stream",
     "text": [
      "root\n",
      " |-- id: string (nullable = true)\n",
      " |-- final_words: array (nullable = true)\n",
      " |    |-- element: string (containsNull = true)\n",
      " |-- rawFeatures: vector (nullable = true)\n",
      " |-- features: vector (nullable = true)\n",
      " |-- prediction: integer (nullable = false)\n",
      "\n"
     ]
    }
   ],
   "source": [
    "results.printSchema()"
   ]
  },
  {
   "cell_type": "code",
   "execution_count": 104,
   "metadata": {},
   "outputs": [
    {
     "name": "stdout",
     "output_type": "stream",
     "text": [
      "+----------+-----+\n",
      "|prediction|count|\n",
      "+----------+-----+\n",
      "|         0| 9578|\n",
      "|         7|  405|\n",
      "|         3|    1|\n",
      "|         4|    1|\n",
      "|         2|   10|\n",
      "|         1|    1|\n",
      "|         5|    1|\n",
      "|         8|    1|\n",
      "|         6|    1|\n",
      "|         9|    1|\n",
      "+----------+-----+\n",
      "\n"
     ]
    }
   ],
   "source": [
    "results.groupBy(\"prediction\").count().show()"
   ]
  },
  {
   "cell_type": "code",
   "execution_count": 106,
   "metadata": {},
   "outputs": [],
   "source": [
    "import pandas as pd\n",
    "import os\n",
    "import nltk\n",
    "from nltk.tokenize import RegexpTokenizer\n",
    "from nltk.corpus import stopwords\n",
    "\n",
    "import numpy as np\n",
    "\n",
    "from sklearn.feature_extraction.text import TfidfVectorizer\n",
    "from sklearn.cluster import KMeans, MiniBatchKMeans \n",
    "\n",
    "vectorizer = TfidfVectorizer(max_features=200000, lowercase=True,\n",
    "                             min_df=5, stop_words='english',\n",
    "                             use_idf=True)\n"
   ]
  },
  {
   "cell_type": "code",
   "execution_count": 107,
   "metadata": {},
   "outputs": [],
   "source": [
    "py_df = final_df.limit(10000).toPandas()"
   ]
  },
  {
   "cell_type": "code",
   "execution_count": 110,
   "metadata": {},
   "outputs": [
    {
     "data": {
      "text/html": [
       "<div>\n",
       "<style scoped>\n",
       "    .dataframe tbody tr th:only-of-type {\n",
       "        vertical-align: middle;\n",
       "    }\n",
       "\n",
       "    .dataframe tbody tr th {\n",
       "        vertical-align: top;\n",
       "    }\n",
       "\n",
       "    .dataframe thead th {\n",
       "        text-align: right;\n",
       "    }\n",
       "</style>\n",
       "<table border=\"1\" class=\"dataframe\">\n",
       "  <thead>\n",
       "    <tr style=\"text-align: right;\">\n",
       "      <th></th>\n",
       "      <th>id</th>\n",
       "      <th>final_words</th>\n",
       "    </tr>\n",
       "  </thead>\n",
       "  <tbody>\n",
       "    <tr>\n",
       "      <th>0</th>\n",
       "      <td>73471</td>\n",
       "      <td>[Patriots, Day, Best, Digs, Past, Heroism, Pat...</td>\n",
       "    </tr>\n",
       "    <tr>\n",
       "      <th>1</th>\n",
       "      <td>73472</td>\n",
       "      <td>[Break, Search, Origin, Complex, Life, Norse, ...</td>\n",
       "    </tr>\n",
       "    <tr>\n",
       "      <th>2</th>\n",
       "      <td>73474</td>\n",
       "      <td>[Obama’s, Ingenious, Mention, Atticus, Finch, ...</td>\n",
       "    </tr>\n",
       "    <tr>\n",
       "      <th>3</th>\n",
       "      <td>73475</td>\n",
       "      <td>[Donald, Trump, Meets,, Assails,, Press, Updat...</td>\n",
       "    </tr>\n",
       "    <tr>\n",
       "      <th>4</th>\n",
       "      <td>73476</td>\n",
       "      <td>[Trump:, Think’, Hacking, Russian, Updated, 12...</td>\n",
       "    </tr>\n",
       "  </tbody>\n",
       "</table>\n",
       "</div>"
      ],
      "text/plain": [
       "      id                                        final_words\n",
       "0  73471  [Patriots, Day, Best, Digs, Past, Heroism, Pat...\n",
       "1  73472  [Break, Search, Origin, Complex, Life, Norse, ...\n",
       "2  73474  [Obama’s, Ingenious, Mention, Atticus, Finch, ...\n",
       "3  73475  [Donald, Trump, Meets,, Assails,, Press, Updat...\n",
       "4  73476  [Trump:, Think’, Hacking, Russian, Updated, 12..."
      ]
     },
     "execution_count": 110,
     "metadata": {},
     "output_type": "execute_result"
    }
   ],
   "source": [
    "py_df.head()"
   ]
  },
  {
   "cell_type": "code",
   "execution_count": 111,
   "metadata": {},
   "outputs": [
    {
     "data": {
      "text/plain": [
       "(10000, 2)"
      ]
     },
     "execution_count": 111,
     "metadata": {},
     "output_type": "execute_result"
    }
   ],
   "source": [
    "py_df.shape"
   ]
  },
  {
   "cell_type": "code",
   "execution_count": 112,
   "metadata": {},
   "outputs": [],
   "source": [
    "vectorizer = TfidfVectorizer(max_features=5000,\n",
    "                             min_df=5, \n",
    "                             use_idf=True)\n",
    "\n",
    "s = list(py_df[\"final_words\"])\n",
    "docs = [\" \".join(i) for i in s]\n",
    "X = vectorizer.fit_transform(docs)\n",
    "\n",
    "#Apply K-means to create cluster\n",
    "from time import time\n",
    "\n",
    "model = KMeans(n_clusters=10, init='k-means++', max_iter=200, n_init=1)\n"
   ]
  },
  {
   "cell_type": "code",
   "execution_count": 113,
   "metadata": {},
   "outputs": [
    {
     "data": {
      "text/plain": [
       "KMeans(max_iter=200, n_clusters=10, n_init=1)"
      ]
     },
     "execution_count": 113,
     "metadata": {},
     "output_type": "execute_result"
    }
   ],
   "source": [
    "model.fit(X)"
   ]
  },
  {
   "cell_type": "code",
   "execution_count": 114,
   "metadata": {},
   "outputs": [],
   "source": [
    "labels = model.labels_\n",
    "ids = np.array(py_df['id'])"
   ]
  },
  {
   "cell_type": "code",
   "execution_count": 115,
   "metadata": {},
   "outputs": [],
   "source": [
    "result_labels = pd.DataFrame(list(zip(ids, labels)), columns = [\"ids\", \"labels\"])"
   ]
  },
  {
   "cell_type": "code",
   "execution_count": 116,
   "metadata": {},
   "outputs": [
    {
     "data": {
      "text/plain": [
       "1    7832\n",
       "2    1743\n",
       "3     405\n",
       "5       6\n",
       "7       5\n",
       "6       4\n",
       "4       2\n",
       "9       1\n",
       "8       1\n",
       "0       1\n",
       "Name: labels, dtype: int64"
      ]
     },
     "execution_count": 116,
     "metadata": {},
     "output_type": "execute_result"
    }
   ],
   "source": [
    "result_labels[\"labels\"].value_counts()"
   ]
  },
  {
   "cell_type": "code",
   "execution_count": null,
   "metadata": {},
   "outputs": [],
   "source": []
  }
 ],
 "metadata": {
  "kernelspec": {
   "display_name": "Python 3",
   "language": "python",
   "name": "python3"
  },
  "language_info": {
   "codemirror_mode": {
    "name": "ipython",
    "version": 3
   },
   "file_extension": ".py",
   "mimetype": "text/x-python",
   "name": "python",
   "nbconvert_exporter": "python",
   "pygments_lexer": "ipython3",
   "version": "3.7.6"
  }
 },
 "nbformat": 4,
 "nbformat_minor": 2
}
