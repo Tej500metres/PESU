{
 "cells": [
  {
   "cell_type": "code",
   "execution_count": 1,
   "metadata": {
    "colab": {},
    "colab_type": "code",
    "id": "0XyoVGhEeeiW"
   },
   "outputs": [],
   "source": [
    "import pandas as pd\n",
    "import numpy as np"
   ]
  },
  {
   "cell_type": "code",
   "execution_count": 2,
   "metadata": {
    "colab": {
     "base_uri": "https://localhost:8080/",
     "height": 434
    },
    "colab_type": "code",
    "executionInfo": {
     "elapsed": 5911,
     "status": "ok",
     "timestamp": 1574696597826,
     "user": {
      "displayName": "Harish R",
      "photoUrl": "https://lh3.googleusercontent.com/a-/AAuE7mAE0wSBpKU4H-UVhIdqG_4lfvwlE_ZO2uIdmMZ7SQ=s64",
      "userId": "16536760646628309567"
     },
     "user_tz": -330
    },
    "id": "bYoPjaAgeeig",
    "outputId": "b19bfbc6-3f05-4bab-86aa-e8ad1db44789"
   },
   "outputs": [
    {
     "data": {
      "text/html": [
       "<div>\n",
       "<style scoped>\n",
       "    .dataframe tbody tr th:only-of-type {\n",
       "        vertical-align: middle;\n",
       "    }\n",
       "\n",
       "    .dataframe tbody tr th {\n",
       "        vertical-align: top;\n",
       "    }\n",
       "\n",
       "    .dataframe thead th {\n",
       "        text-align: right;\n",
       "    }\n",
       "</style>\n",
       "<table border=\"1\" class=\"dataframe\">\n",
       "  <thead>\n",
       "    <tr style=\"text-align: right;\">\n",
       "      <th></th>\n",
       "      <th>Patron Type Code</th>\n",
       "      <th>Patron Type Definition</th>\n",
       "      <th>Total Checkouts</th>\n",
       "      <th>Total Renewals</th>\n",
       "      <th>Age Range</th>\n",
       "      <th>Home Library Code</th>\n",
       "      <th>Home Library Definition</th>\n",
       "      <th>Circulation Active Month</th>\n",
       "      <th>Circulation Active Year</th>\n",
       "      <th>Notice Preference Code</th>\n",
       "      <th>Notice Preference Definition</th>\n",
       "      <th>Provided Email Address</th>\n",
       "      <th>Year Patron Registered</th>\n",
       "      <th>Outside of County</th>\n",
       "      <th>Supervisor District</th>\n",
       "    </tr>\n",
       "  </thead>\n",
       "  <tbody>\n",
       "    <tr>\n",
       "      <td>0</td>\n",
       "      <td>3</td>\n",
       "      <td>SENIOR</td>\n",
       "      <td>28</td>\n",
       "      <td>13</td>\n",
       "      <td>65 to 74 years</td>\n",
       "      <td>X</td>\n",
       "      <td>Main Library</td>\n",
       "      <td>November</td>\n",
       "      <td>2012</td>\n",
       "      <td>z</td>\n",
       "      <td>email</td>\n",
       "      <td>True</td>\n",
       "      <td>2003</td>\n",
       "      <td>True</td>\n",
       "      <td>NaN</td>\n",
       "    </tr>\n",
       "    <tr>\n",
       "      <td>1</td>\n",
       "      <td>0</td>\n",
       "      <td>ADULT</td>\n",
       "      <td>21</td>\n",
       "      <td>10</td>\n",
       "      <td>55 to 59 years</td>\n",
       "      <td>X</td>\n",
       "      <td>Main Library</td>\n",
       "      <td>October</td>\n",
       "      <td>2015</td>\n",
       "      <td>z</td>\n",
       "      <td>email</td>\n",
       "      <td>True</td>\n",
       "      <td>2003</td>\n",
       "      <td>False</td>\n",
       "      <td>NaN</td>\n",
       "    </tr>\n",
       "    <tr>\n",
       "      <td>2</td>\n",
       "      <td>0</td>\n",
       "      <td>ADULT</td>\n",
       "      <td>275</td>\n",
       "      <td>559</td>\n",
       "      <td>60 to 64 years</td>\n",
       "      <td>X</td>\n",
       "      <td>Main Library</td>\n",
       "      <td>January</td>\n",
       "      <td>2015</td>\n",
       "      <td>z</td>\n",
       "      <td>email</td>\n",
       "      <td>True</td>\n",
       "      <td>2003</td>\n",
       "      <td>True</td>\n",
       "      <td>NaN</td>\n",
       "    </tr>\n",
       "    <tr>\n",
       "      <td>3</td>\n",
       "      <td>0</td>\n",
       "      <td>ADULT</td>\n",
       "      <td>73</td>\n",
       "      <td>38</td>\n",
       "      <td>45 to 54 years</td>\n",
       "      <td>M8</td>\n",
       "      <td>Mission Bay</td>\n",
       "      <td>February</td>\n",
       "      <td>2016</td>\n",
       "      <td>z</td>\n",
       "      <td>email</td>\n",
       "      <td>True</td>\n",
       "      <td>2003</td>\n",
       "      <td>False</td>\n",
       "      <td>NaN</td>\n",
       "    </tr>\n",
       "    <tr>\n",
       "      <td>4</td>\n",
       "      <td>0</td>\n",
       "      <td>ADULT</td>\n",
       "      <td>182</td>\n",
       "      <td>90</td>\n",
       "      <td>45 to 54 years</td>\n",
       "      <td>X</td>\n",
       "      <td>Main Library</td>\n",
       "      <td>July</td>\n",
       "      <td>2016</td>\n",
       "      <td>z</td>\n",
       "      <td>email</td>\n",
       "      <td>True</td>\n",
       "      <td>2003</td>\n",
       "      <td>False</td>\n",
       "      <td>NaN</td>\n",
       "    </tr>\n",
       "  </tbody>\n",
       "</table>\n",
       "</div>"
      ],
      "text/plain": [
       "   Patron Type Code Patron Type Definition  Total Checkouts  Total Renewals  \\\n",
       "0                 3                 SENIOR               28              13   \n",
       "1                 0                  ADULT               21              10   \n",
       "2                 0                  ADULT              275             559   \n",
       "3                 0                  ADULT               73              38   \n",
       "4                 0                  ADULT              182              90   \n",
       "\n",
       "        Age Range Home Library Code Home Library Definition  \\\n",
       "0  65 to 74 years                 X            Main Library   \n",
       "1  55 to 59 years                 X            Main Library   \n",
       "2  60 to 64 years                 X            Main Library   \n",
       "3  45 to 54 years                M8             Mission Bay   \n",
       "4  45 to 54 years                 X            Main Library   \n",
       "\n",
       "  Circulation Active Month Circulation Active Year Notice Preference Code  \\\n",
       "0                 November                    2012                      z   \n",
       "1                  October                    2015                      z   \n",
       "2                  January                    2015                      z   \n",
       "3                 February                    2016                      z   \n",
       "4                     July                    2016                      z   \n",
       "\n",
       "  Notice Preference Definition  Provided Email Address  \\\n",
       "0                        email                    True   \n",
       "1                        email                    True   \n",
       "2                        email                    True   \n",
       "3                        email                    True   \n",
       "4                        email                    True   \n",
       "\n",
       "   Year Patron Registered  Outside of County  Supervisor District  \n",
       "0                    2003               True                  NaN  \n",
       "1                    2003              False                  NaN  \n",
       "2                    2003               True                  NaN  \n",
       "3                    2003              False                  NaN  \n",
       "4                    2003              False                  NaN  "
      ]
     },
     "execution_count": 2,
     "metadata": {},
     "output_type": "execute_result"
    }
   ],
   "source": [
    "df = pd.read_csv(\"Library_Usage.csv\")\n",
    "df.head()"
   ]
  },
  {
   "cell_type": "code",
   "execution_count": 3,
   "metadata": {
    "colab": {
     "base_uri": "https://localhost:8080/",
     "height": 144
    },
    "colab_type": "code",
    "executionInfo": {
     "elapsed": 5887,
     "status": "ok",
     "timestamp": 1574696597831,
     "user": {
      "displayName": "Harish R",
      "photoUrl": "https://lh3.googleusercontent.com/a-/AAuE7mAE0wSBpKU4H-UVhIdqG_4lfvwlE_ZO2uIdmMZ7SQ=s64",
      "userId": "16536760646628309567"
     },
     "user_tz": -330
    },
    "id": "4RbrsgVYeeip",
    "outputId": "b33c770c-7203-4c97-b9aa-82bfd97443b0"
   },
   "outputs": [
    {
     "data": {
      "text/plain": [
       "Index(['Patron Type Code', 'Patron Type Definition', 'Total Checkouts',\n",
       "       'Total Renewals', 'Age Range', 'Home Library Code',\n",
       "       'Home Library Definition', 'Circulation Active Month',\n",
       "       'Circulation Active Year', 'Notice Preference Code',\n",
       "       'Notice Preference Definition', 'Provided Email Address',\n",
       "       'Year Patron Registered', 'Outside of County', 'Supervisor District'],\n",
       "      dtype='object')"
      ]
     },
     "execution_count": 3,
     "metadata": {},
     "output_type": "execute_result"
    }
   ],
   "source": [
    "df.columns"
   ]
  },
  {
   "cell_type": "code",
   "execution_count": 4,
   "metadata": {
    "colab": {
     "base_uri": "https://localhost:8080/",
     "height": 35
    },
    "colab_type": "code",
    "executionInfo": {
     "elapsed": 5865,
     "status": "ok",
     "timestamp": 1574696597835,
     "user": {
      "displayName": "Harish R",
      "photoUrl": "https://lh3.googleusercontent.com/a-/AAuE7mAE0wSBpKU4H-UVhIdqG_4lfvwlE_ZO2uIdmMZ7SQ=s64",
      "userId": "16536760646628309567"
     },
     "user_tz": -330
    },
    "id": "6o_Y0j9eeeiv",
    "outputId": "8639f090-7b5c-4d05-e551-2882dd9717fc"
   },
   "outputs": [
    {
     "data": {
      "text/plain": [
       "array([nan,  1.,  9., 10.,  3.,  8.,  7., 11.,  2.,  4.,  5.,  6.])"
      ]
     },
     "execution_count": 4,
     "metadata": {},
     "output_type": "execute_result"
    }
   ],
   "source": [
    "df['Supervisor District'].unique()"
   ]
  },
  {
   "cell_type": "code",
   "execution_count": 5,
   "metadata": {
    "colab": {
     "base_uri": "https://localhost:8080/",
     "height": 35
    },
    "colab_type": "code",
    "executionInfo": {
     "elapsed": 5845,
     "status": "ok",
     "timestamp": 1574696597838,
     "user": {
      "displayName": "Harish R",
      "photoUrl": "https://lh3.googleusercontent.com/a-/AAuE7mAE0wSBpKU4H-UVhIdqG_4lfvwlE_ZO2uIdmMZ7SQ=s64",
      "userId": "16536760646628309567"
     },
     "user_tz": -330
    },
    "id": "kJWIaCTweei8",
    "outputId": "f90a741f-d3a4-4a37-b114-979ffdce54c8"
   },
   "outputs": [
    {
     "data": {
      "text/plain": [
       "dtype('float64')"
      ]
     },
     "execution_count": 5,
     "metadata": {},
     "output_type": "execute_result"
    }
   ],
   "source": [
    "df['Supervisor District'].dtype"
   ]
  },
  {
   "cell_type": "code",
   "execution_count": 6,
   "metadata": {
    "colab": {
     "base_uri": "https://localhost:8080/",
     "height": 826
    },
    "colab_type": "code",
    "executionInfo": {
     "elapsed": 5831,
     "status": "ok",
     "timestamp": 1574696597843,
     "user": {
      "displayName": "Harish R",
      "photoUrl": "https://lh3.googleusercontent.com/a-/AAuE7mAE0wSBpKU4H-UVhIdqG_4lfvwlE_ZO2uIdmMZ7SQ=s64",
      "userId": "16536760646628309567"
     },
     "user_tz": -330
    },
    "id": "ebL3X0wXeejC",
    "outputId": "e49fb475-22a5-4032-93c9-02b55065f023"
   },
   "outputs": [
    {
     "data": {
      "text/html": [
       "<div>\n",
       "<style scoped>\n",
       "    .dataframe tbody tr th:only-of-type {\n",
       "        vertical-align: middle;\n",
       "    }\n",
       "\n",
       "    .dataframe tbody tr th {\n",
       "        vertical-align: top;\n",
       "    }\n",
       "\n",
       "    .dataframe thead th {\n",
       "        text-align: right;\n",
       "    }\n",
       "</style>\n",
       "<table border=\"1\" class=\"dataframe\">\n",
       "  <thead>\n",
       "    <tr style=\"text-align: right;\">\n",
       "      <th></th>\n",
       "      <th>Patron Type Code</th>\n",
       "      <th>Patron Type Definition</th>\n",
       "      <th>Total Checkouts</th>\n",
       "      <th>Total Renewals</th>\n",
       "      <th>Age Range</th>\n",
       "      <th>Home Library Code</th>\n",
       "      <th>Home Library Definition</th>\n",
       "      <th>Circulation Active Month</th>\n",
       "      <th>Circulation Active Year</th>\n",
       "      <th>Notice Preference Code</th>\n",
       "      <th>Notice Preference Definition</th>\n",
       "      <th>Provided Email Address</th>\n",
       "      <th>Year Patron Registered</th>\n",
       "      <th>Outside of County</th>\n",
       "      <th>Supervisor District</th>\n",
       "    </tr>\n",
       "  </thead>\n",
       "  <tbody>\n",
       "    <tr>\n",
       "      <td>0</td>\n",
       "      <td>3</td>\n",
       "      <td>SENIOR</td>\n",
       "      <td>28</td>\n",
       "      <td>13</td>\n",
       "      <td>65 to 74 years</td>\n",
       "      <td>X</td>\n",
       "      <td>Main Library</td>\n",
       "      <td>November</td>\n",
       "      <td>2012</td>\n",
       "      <td>z</td>\n",
       "      <td>email</td>\n",
       "      <td>True</td>\n",
       "      <td>2003</td>\n",
       "      <td>True</td>\n",
       "      <td>NaN</td>\n",
       "    </tr>\n",
       "    <tr>\n",
       "      <td>1</td>\n",
       "      <td>0</td>\n",
       "      <td>ADULT</td>\n",
       "      <td>21</td>\n",
       "      <td>10</td>\n",
       "      <td>55 to 59 years</td>\n",
       "      <td>X</td>\n",
       "      <td>Main Library</td>\n",
       "      <td>October</td>\n",
       "      <td>2015</td>\n",
       "      <td>z</td>\n",
       "      <td>email</td>\n",
       "      <td>True</td>\n",
       "      <td>2003</td>\n",
       "      <td>False</td>\n",
       "      <td>NaN</td>\n",
       "    </tr>\n",
       "    <tr>\n",
       "      <td>2</td>\n",
       "      <td>0</td>\n",
       "      <td>ADULT</td>\n",
       "      <td>275</td>\n",
       "      <td>559</td>\n",
       "      <td>60 to 64 years</td>\n",
       "      <td>X</td>\n",
       "      <td>Main Library</td>\n",
       "      <td>January</td>\n",
       "      <td>2015</td>\n",
       "      <td>z</td>\n",
       "      <td>email</td>\n",
       "      <td>True</td>\n",
       "      <td>2003</td>\n",
       "      <td>True</td>\n",
       "      <td>NaN</td>\n",
       "    </tr>\n",
       "    <tr>\n",
       "      <td>3</td>\n",
       "      <td>0</td>\n",
       "      <td>ADULT</td>\n",
       "      <td>73</td>\n",
       "      <td>38</td>\n",
       "      <td>45 to 54 years</td>\n",
       "      <td>M8</td>\n",
       "      <td>Mission Bay</td>\n",
       "      <td>February</td>\n",
       "      <td>2016</td>\n",
       "      <td>z</td>\n",
       "      <td>email</td>\n",
       "      <td>True</td>\n",
       "      <td>2003</td>\n",
       "      <td>False</td>\n",
       "      <td>NaN</td>\n",
       "    </tr>\n",
       "    <tr>\n",
       "      <td>4</td>\n",
       "      <td>0</td>\n",
       "      <td>ADULT</td>\n",
       "      <td>182</td>\n",
       "      <td>90</td>\n",
       "      <td>45 to 54 years</td>\n",
       "      <td>X</td>\n",
       "      <td>Main Library</td>\n",
       "      <td>July</td>\n",
       "      <td>2016</td>\n",
       "      <td>z</td>\n",
       "      <td>email</td>\n",
       "      <td>True</td>\n",
       "      <td>2003</td>\n",
       "      <td>False</td>\n",
       "      <td>NaN</td>\n",
       "    </tr>\n",
       "    <tr>\n",
       "      <td>...</td>\n",
       "      <td>...</td>\n",
       "      <td>...</td>\n",
       "      <td>...</td>\n",
       "      <td>...</td>\n",
       "      <td>...</td>\n",
       "      <td>...</td>\n",
       "      <td>...</td>\n",
       "      <td>...</td>\n",
       "      <td>...</td>\n",
       "      <td>...</td>\n",
       "      <td>...</td>\n",
       "      <td>...</td>\n",
       "      <td>...</td>\n",
       "      <td>...</td>\n",
       "      <td>...</td>\n",
       "    </tr>\n",
       "    <tr>\n",
       "      <td>423433</td>\n",
       "      <td>0</td>\n",
       "      <td>ADULT</td>\n",
       "      <td>1342</td>\n",
       "      <td>1443</td>\n",
       "      <td>20 to 24 years</td>\n",
       "      <td>W2</td>\n",
       "      <td>West Portal</td>\n",
       "      <td>July</td>\n",
       "      <td>2016</td>\n",
       "      <td>z</td>\n",
       "      <td>email</td>\n",
       "      <td>True</td>\n",
       "      <td>2007</td>\n",
       "      <td>False</td>\n",
       "      <td>NaN</td>\n",
       "    </tr>\n",
       "    <tr>\n",
       "      <td>423436</td>\n",
       "      <td>1</td>\n",
       "      <td>JUVENILE</td>\n",
       "      <td>961</td>\n",
       "      <td>494</td>\n",
       "      <td>10 to 19 years</td>\n",
       "      <td>X</td>\n",
       "      <td>Main Library</td>\n",
       "      <td>July</td>\n",
       "      <td>2016</td>\n",
       "      <td>z</td>\n",
       "      <td>email</td>\n",
       "      <td>True</td>\n",
       "      <td>2008</td>\n",
       "      <td>True</td>\n",
       "      <td>NaN</td>\n",
       "    </tr>\n",
       "    <tr>\n",
       "      <td>423440</td>\n",
       "      <td>15</td>\n",
       "      <td>TEACHER CARD</td>\n",
       "      <td>12</td>\n",
       "      <td>6</td>\n",
       "      <td>55 to 59 years</td>\n",
       "      <td>M4</td>\n",
       "      <td>Merced</td>\n",
       "      <td>April</td>\n",
       "      <td>2016</td>\n",
       "      <td>z</td>\n",
       "      <td>email</td>\n",
       "      <td>True</td>\n",
       "      <td>2015</td>\n",
       "      <td>False</td>\n",
       "      <td>NaN</td>\n",
       "    </tr>\n",
       "    <tr>\n",
       "      <td>423445</td>\n",
       "      <td>0</td>\n",
       "      <td>ADULT</td>\n",
       "      <td>4</td>\n",
       "      <td>1</td>\n",
       "      <td>25 to 34 years</td>\n",
       "      <td>X</td>\n",
       "      <td>Main Library</td>\n",
       "      <td>January</td>\n",
       "      <td>2014</td>\n",
       "      <td>z</td>\n",
       "      <td>email</td>\n",
       "      <td>True</td>\n",
       "      <td>2011</td>\n",
       "      <td>False</td>\n",
       "      <td>NaN</td>\n",
       "    </tr>\n",
       "    <tr>\n",
       "      <td>423447</td>\n",
       "      <td>2</td>\n",
       "      <td>YOUNG ADULT</td>\n",
       "      <td>662</td>\n",
       "      <td>93</td>\n",
       "      <td>10 to 19 years</td>\n",
       "      <td>A5</td>\n",
       "      <td>Anza</td>\n",
       "      <td>April</td>\n",
       "      <td>2016</td>\n",
       "      <td>z</td>\n",
       "      <td>email</td>\n",
       "      <td>True</td>\n",
       "      <td>2003</td>\n",
       "      <td>False</td>\n",
       "      <td>NaN</td>\n",
       "    </tr>\n",
       "  </tbody>\n",
       "</table>\n",
       "<p>110310 rows × 15 columns</p>\n",
       "</div>"
      ],
      "text/plain": [
       "        Patron Type Code Patron Type Definition  Total Checkouts  \\\n",
       "0                      3                 SENIOR               28   \n",
       "1                      0                  ADULT               21   \n",
       "2                      0                  ADULT              275   \n",
       "3                      0                  ADULT               73   \n",
       "4                      0                  ADULT              182   \n",
       "...                  ...                    ...              ...   \n",
       "423433                 0                  ADULT             1342   \n",
       "423436                 1               JUVENILE              961   \n",
       "423440                15           TEACHER CARD               12   \n",
       "423445                 0                  ADULT                4   \n",
       "423447                 2            YOUNG ADULT              662   \n",
       "\n",
       "        Total Renewals       Age Range Home Library Code  \\\n",
       "0                   13  65 to 74 years                 X   \n",
       "1                   10  55 to 59 years                 X   \n",
       "2                  559  60 to 64 years                 X   \n",
       "3                   38  45 to 54 years                M8   \n",
       "4                   90  45 to 54 years                 X   \n",
       "...                ...             ...               ...   \n",
       "423433            1443  20 to 24 years                W2   \n",
       "423436             494  10 to 19 years                 X   \n",
       "423440               6  55 to 59 years                M4   \n",
       "423445               1  25 to 34 years                 X   \n",
       "423447              93  10 to 19 years                A5   \n",
       "\n",
       "       Home Library Definition Circulation Active Month  \\\n",
       "0                 Main Library                 November   \n",
       "1                 Main Library                  October   \n",
       "2                 Main Library                  January   \n",
       "3                  Mission Bay                 February   \n",
       "4                 Main Library                     July   \n",
       "...                        ...                      ...   \n",
       "423433             West Portal                     July   \n",
       "423436            Main Library                     July   \n",
       "423440                  Merced                    April   \n",
       "423445            Main Library                  January   \n",
       "423447                    Anza                    April   \n",
       "\n",
       "       Circulation Active Year Notice Preference Code  \\\n",
       "0                         2012                      z   \n",
       "1                         2015                      z   \n",
       "2                         2015                      z   \n",
       "3                         2016                      z   \n",
       "4                         2016                      z   \n",
       "...                        ...                    ...   \n",
       "423433                    2016                      z   \n",
       "423436                    2016                      z   \n",
       "423440                    2016                      z   \n",
       "423445                    2014                      z   \n",
       "423447                    2016                      z   \n",
       "\n",
       "       Notice Preference Definition  Provided Email Address  \\\n",
       "0                             email                    True   \n",
       "1                             email                    True   \n",
       "2                             email                    True   \n",
       "3                             email                    True   \n",
       "4                             email                    True   \n",
       "...                             ...                     ...   \n",
       "423433                        email                    True   \n",
       "423436                        email                    True   \n",
       "423440                        email                    True   \n",
       "423445                        email                    True   \n",
       "423447                        email                    True   \n",
       "\n",
       "        Year Patron Registered  Outside of County  Supervisor District  \n",
       "0                         2003               True                  NaN  \n",
       "1                         2003              False                  NaN  \n",
       "2                         2003               True                  NaN  \n",
       "3                         2003              False                  NaN  \n",
       "4                         2003              False                  NaN  \n",
       "...                        ...                ...                  ...  \n",
       "423433                    2007              False                  NaN  \n",
       "423436                    2008               True                  NaN  \n",
       "423440                    2015              False                  NaN  \n",
       "423445                    2011              False                  NaN  \n",
       "423447                    2003              False                  NaN  \n",
       "\n",
       "[110310 rows x 15 columns]"
      ]
     },
     "execution_count": 6,
     "metadata": {},
     "output_type": "execute_result"
    }
   ],
   "source": [
    "df[df['Supervisor District'].isnull()]"
   ]
  },
  {
   "cell_type": "code",
   "execution_count": 7,
   "metadata": {
    "colab": {
     "base_uri": "https://localhost:8080/",
     "height": 35
    },
    "colab_type": "code",
    "executionInfo": {
     "elapsed": 5813,
     "status": "ok",
     "timestamp": 1574696597848,
     "user": {
      "displayName": "Harish R",
      "photoUrl": "https://lh3.googleusercontent.com/a-/AAuE7mAE0wSBpKU4H-UVhIdqG_4lfvwlE_ZO2uIdmMZ7SQ=s64",
      "userId": "16536760646628309567"
     },
     "user_tz": -330
    },
    "id": "txymVHLmeejG",
    "outputId": "b7f9b904-88d9-423f-8cf6-8586846100d1"
   },
   "outputs": [
    {
     "data": {
      "text/plain": [
       "(423448, 15)"
      ]
     },
     "execution_count": 7,
     "metadata": {},
     "output_type": "execute_result"
    }
   ],
   "source": [
    "df.shape"
   ]
  },
  {
   "cell_type": "code",
   "execution_count": 8,
   "metadata": {
    "colab": {},
    "colab_type": "code",
    "id": "yI9VKT5aeejK"
   },
   "outputs": [],
   "source": [
    "df['Supervisor District']=df['Supervisor District'].interpolate(method ='linear', limit_direction ='forward') "
   ]
  },
  {
   "cell_type": "code",
   "execution_count": 9,
   "metadata": {
    "colab": {
     "base_uri": "https://localhost:8080/",
     "height": 35
    },
    "colab_type": "code",
    "executionInfo": {
     "elapsed": 5789,
     "status": "ok",
     "timestamp": 1574696597856,
     "user": {
      "displayName": "Harish R",
      "photoUrl": "https://lh3.googleusercontent.com/a-/AAuE7mAE0wSBpKU4H-UVhIdqG_4lfvwlE_ZO2uIdmMZ7SQ=s64",
      "userId": "16536760646628309567"
     },
     "user_tz": -330
    },
    "id": "TIzWIxrheejP",
    "outputId": "8b0a5152-022f-4d23-e94a-a4040c213a13"
   },
   "outputs": [
    {
     "data": {
      "text/plain": [
       "(141, 15)"
      ]
     },
     "execution_count": 9,
     "metadata": {},
     "output_type": "execute_result"
    }
   ],
   "source": [
    "df[df['Supervisor District'].isnull()].shape"
   ]
  },
  {
   "cell_type": "code",
   "execution_count": 10,
   "metadata": {
    "colab": {},
    "colab_type": "code",
    "id": "hdVmiHCZeejT"
   },
   "outputs": [],
   "source": [
    "df['Supervisor District']=df['Supervisor District'].fillna(df['Supervisor District'].mean())"
   ]
  },
  {
   "cell_type": "code",
   "execution_count": 11,
   "metadata": {
    "colab": {
     "base_uri": "https://localhost:8080/",
     "height": 35
    },
    "colab_type": "code",
    "executionInfo": {
     "elapsed": 5767,
     "status": "ok",
     "timestamp": 1574696597865,
     "user": {
      "displayName": "Harish R",
      "photoUrl": "https://lh3.googleusercontent.com/a-/AAuE7mAE0wSBpKU4H-UVhIdqG_4lfvwlE_ZO2uIdmMZ7SQ=s64",
      "userId": "16536760646628309567"
     },
     "user_tz": -330
    },
    "id": "5qrqryBIeejY",
    "outputId": "7239bde5-3387-4d99-dcb3-6ebf48507a71"
   },
   "outputs": [
    {
     "data": {
      "text/plain": [
       "(0, 15)"
      ]
     },
     "execution_count": 11,
     "metadata": {},
     "output_type": "execute_result"
    }
   ],
   "source": [
    "df[df['Supervisor District'].isnull()].shape"
   ]
  },
  {
   "cell_type": "code",
   "execution_count": 12,
   "metadata": {
    "colab": {
     "base_uri": "https://localhost:8080/",
     "height": 144
    },
    "colab_type": "code",
    "executionInfo": {
     "elapsed": 5745,
     "status": "ok",
     "timestamp": 1574696597868,
     "user": {
      "displayName": "Harish R",
      "photoUrl": "https://lh3.googleusercontent.com/a-/AAuE7mAE0wSBpKU4H-UVhIdqG_4lfvwlE_ZO2uIdmMZ7SQ=s64",
      "userId": "16536760646628309567"
     },
     "user_tz": -330
    },
    "id": "GXv4Hpa9eejd",
    "outputId": "c723589e-25c5-4250-aec5-7b14c225f91d"
   },
   "outputs": [
    {
     "data": {
      "text/plain": [
       "Index(['Patron Type Code', 'Patron Type Definition', 'Total Checkouts',\n",
       "       'Total Renewals', 'Age Range', 'Home Library Code',\n",
       "       'Home Library Definition', 'Circulation Active Month',\n",
       "       'Circulation Active Year', 'Notice Preference Code',\n",
       "       'Notice Preference Definition', 'Provided Email Address',\n",
       "       'Year Patron Registered', 'Outside of County', 'Supervisor District'],\n",
       "      dtype='object')"
      ]
     },
     "execution_count": 12,
     "metadata": {},
     "output_type": "execute_result"
    }
   ],
   "source": [
    "df.columns"
   ]
  },
  {
   "cell_type": "code",
   "execution_count": 13,
   "metadata": {
    "colab": {
     "base_uri": "https://localhost:8080/",
     "height": 162
    },
    "colab_type": "code",
    "executionInfo": {
     "elapsed": 5732,
     "status": "ok",
     "timestamp": 1574696597872,
     "user": {
      "displayName": "Harish R",
      "photoUrl": "https://lh3.googleusercontent.com/a-/AAuE7mAE0wSBpKU4H-UVhIdqG_4lfvwlE_ZO2uIdmMZ7SQ=s64",
      "userId": "16536760646628309567"
     },
     "user_tz": -330
    },
    "id": "LDwRfMcPeeji",
    "outputId": "7d67d69f-69ec-4487-84b3-a7296ae49010"
   },
   "outputs": [
    {
     "name": "stdout",
     "output_type": "stream",
     "text": [
      "['65 to 74 years' '55 to 59 years' '60 to 64 years' '45 to 54 years'\n",
      " '35 to 44 years' '25 to 34 years' '20 to 24 years' nan\n",
      " '75 years and over' '0 to 9 years' '10 to 19 years']\n",
      "['November' 'October' 'January' 'February' 'July' 'December' 'September'\n",
      " 'May' 'August' 'March' 'June' 'April' 'None']\n",
      "['2012' '2015' '2016' '2004' '2014' '2005' '2006' '2007' '2013' '2010'\n",
      " '2011' '2008' 'None' '2009' '2003']\n",
      "['email' 'phone' 'print' 'none']\n"
     ]
    }
   ],
   "source": [
    "print(df['Age Range'].unique())\n",
    "print(df['Circulation Active Month'].unique())\n",
    "print(df['Circulation Active Year'].unique())\n",
    "print(df['Notice Preference Definition'].unique())"
   ]
  },
  {
   "cell_type": "code",
   "execution_count": 14,
   "metadata": {
    "colab": {},
    "colab_type": "code",
    "id": "1xLx9ySzeejo"
   },
   "outputs": [],
   "source": [
    "df['Age Range']=df['Age Range'].fillna(method='ffill')"
   ]
  },
  {
   "cell_type": "code",
   "execution_count": 15,
   "metadata": {
    "colab": {
     "base_uri": "https://localhost:8080/",
     "height": 90
    },
    "colab_type": "code",
    "executionInfo": {
     "elapsed": 5714,
     "status": "ok",
     "timestamp": 1574696597881,
     "user": {
      "displayName": "Harish R",
      "photoUrl": "https://lh3.googleusercontent.com/a-/AAuE7mAE0wSBpKU4H-UVhIdqG_4lfvwlE_ZO2uIdmMZ7SQ=s64",
      "userId": "16536760646628309567"
     },
     "user_tz": -330
    },
    "id": "6DfSTwmWeejr",
    "outputId": "abaf82b3-c770-463d-df08-b8d6018b95a6"
   },
   "outputs": [
    {
     "data": {
      "text/plain": [
       "array(['65 to 74 years', '55 to 59 years', '60 to 64 years',\n",
       "       '45 to 54 years', '35 to 44 years', '25 to 34 years',\n",
       "       '20 to 24 years', '75 years and over', '0 to 9 years',\n",
       "       '10 to 19 years'], dtype=object)"
      ]
     },
     "execution_count": 15,
     "metadata": {},
     "output_type": "execute_result"
    }
   ],
   "source": [
    "df['Age Range'].unique()"
   ]
  },
  {
   "cell_type": "code",
   "execution_count": 16,
   "metadata": {
    "colab": {},
    "colab_type": "code",
    "id": "Vbf3nNNSeeju"
   },
   "outputs": [],
   "source": [
    "df['Circulation Active Month']=df['Circulation Active Month'].replace('None',np.nan)\n",
    "df['Circulation Active Month']=df['Circulation Active Month'].fillna(method=\"ffill\")"
   ]
  },
  {
   "cell_type": "code",
   "execution_count": 17,
   "metadata": {
    "colab": {
     "base_uri": "https://localhost:8080/",
     "height": 72
    },
    "colab_type": "code",
    "executionInfo": {
     "elapsed": 5696,
     "status": "ok",
     "timestamp": 1574696597890,
     "user": {
      "displayName": "Harish R",
      "photoUrl": "https://lh3.googleusercontent.com/a-/AAuE7mAE0wSBpKU4H-UVhIdqG_4lfvwlE_ZO2uIdmMZ7SQ=s64",
      "userId": "16536760646628309567"
     },
     "user_tz": -330
    },
    "id": "0Hra4vPIeejz",
    "outputId": "6df82155-478a-45a7-84fd-6fa4891b865f"
   },
   "outputs": [
    {
     "data": {
      "text/plain": [
       "array(['November', 'October', 'January', 'February', 'July', 'December',\n",
       "       'September', 'May', 'August', 'March', 'June', 'April'],\n",
       "      dtype=object)"
      ]
     },
     "execution_count": 17,
     "metadata": {},
     "output_type": "execute_result"
    }
   ],
   "source": [
    "df['Circulation Active Month'].unique()"
   ]
  },
  {
   "cell_type": "code",
   "execution_count": 18,
   "metadata": {
    "colab": {
     "base_uri": "https://localhost:8080/",
     "height": 53
    },
    "colab_type": "code",
    "executionInfo": {
     "elapsed": 5683,
     "status": "ok",
     "timestamp": 1574696597895,
     "user": {
      "displayName": "Harish R",
      "photoUrl": "https://lh3.googleusercontent.com/a-/AAuE7mAE0wSBpKU4H-UVhIdqG_4lfvwlE_ZO2uIdmMZ7SQ=s64",
      "userId": "16536760646628309567"
     },
     "user_tz": -330
    },
    "id": "Qw-34g4Ieej3",
    "outputId": "107d1173-4975-4f51-90df-ee44f456b0eb"
   },
   "outputs": [
    {
     "data": {
      "text/plain": [
       "array(['2012', '2015', '2016', '2004', '2014', '2005', '2006', '2007',\n",
       "       '2013', '2010', '2011', '2008', '2009', '2003'], dtype=object)"
      ]
     },
     "execution_count": 18,
     "metadata": {},
     "output_type": "execute_result"
    }
   ],
   "source": [
    "df['Circulation Active Year']=df['Circulation Active Year'].replace('None',np.nan)\n",
    "df['Circulation Active Year']=df['Circulation Active Year'].fillna(method=\"ffill\")\n",
    "df['Circulation Active Year'].unique()"
   ]
  },
  {
   "cell_type": "code",
   "execution_count": 19,
   "metadata": {
    "colab": {
     "base_uri": "https://localhost:8080/",
     "height": 53
    },
    "colab_type": "code",
    "executionInfo": {
     "elapsed": 5671,
     "status": "ok",
     "timestamp": 1574696597900,
     "user": {
      "displayName": "Harish R",
      "photoUrl": "https://lh3.googleusercontent.com/a-/AAuE7mAE0wSBpKU4H-UVhIdqG_4lfvwlE_ZO2uIdmMZ7SQ=s64",
      "userId": "16536760646628309567"
     },
     "user_tz": -330
    },
    "id": "b6ukW805eej6",
    "outputId": "cdf632bc-261d-47f2-ae66-b4daf35c5ddc"
   },
   "outputs": [
    {
     "data": {
      "text/plain": [
       "array(['2012', '2015', '2016', '2004', '2014', '2005', '2006', '2007',\n",
       "       '2013', '2010', '2011', '2008', '2009', '2003'], dtype=object)"
      ]
     },
     "execution_count": 19,
     "metadata": {},
     "output_type": "execute_result"
    }
   ],
   "source": [
    "df['Notice Preference Definition']=df['Notice Preference Definition'].replace('none',np.nan)\n",
    "df['Notice Preference Definition']=df['Notice Preference Definition'].fillna(method=\"ffill\")\n",
    "df['Circulation Active Year'].unique()"
   ]
  },
  {
   "cell_type": "code",
   "execution_count": 20,
   "metadata": {
    "colab": {
     "base_uri": "https://localhost:8080/",
     "height": 35
    },
    "colab_type": "code",
    "executionInfo": {
     "elapsed": 5658,
     "status": "ok",
     "timestamp": 1574696597903,
     "user": {
      "displayName": "Harish R",
      "photoUrl": "https://lh3.googleusercontent.com/a-/AAuE7mAE0wSBpKU4H-UVhIdqG_4lfvwlE_ZO2uIdmMZ7SQ=s64",
      "userId": "16536760646628309567"
     },
     "user_tz": -330
    },
    "id": "p7kqJtmxeej-",
    "outputId": "50bbcc37-1aa3-4aa5-8730-dbdae065b181"
   },
   "outputs": [
    {
     "data": {
      "text/plain": [
       "False"
      ]
     },
     "execution_count": 20,
     "metadata": {},
     "output_type": "execute_result"
    }
   ],
   "source": [
    "df['Total Checkouts'].isnull().values.any()"
   ]
  },
  {
   "cell_type": "code",
   "execution_count": 21,
   "metadata": {
    "colab": {
     "base_uri": "https://localhost:8080/",
     "height": 35
    },
    "colab_type": "code",
    "executionInfo": {
     "elapsed": 5646,
     "status": "ok",
     "timestamp": 1574696597907,
     "user": {
      "displayName": "Harish R",
      "photoUrl": "https://lh3.googleusercontent.com/a-/AAuE7mAE0wSBpKU4H-UVhIdqG_4lfvwlE_ZO2uIdmMZ7SQ=s64",
      "userId": "16536760646628309567"
     },
     "user_tz": -330
    },
    "id": "oJHt-PRXeekC",
    "outputId": "5255776b-d3ac-43d0-f5a3-2b3fa73bbe15"
   },
   "outputs": [
    {
     "data": {
      "text/plain": [
       "False"
      ]
     },
     "execution_count": 21,
     "metadata": {},
     "output_type": "execute_result"
    }
   ],
   "source": [
    "df['Total Renewals'].isnull().values.any()"
   ]
  },
  {
   "cell_type": "code",
   "execution_count": 22,
   "metadata": {
    "colab": {
     "base_uri": "https://localhost:8080/",
     "height": 35
    },
    "colab_type": "code",
    "executionInfo": {
     "elapsed": 5635,
     "status": "ok",
     "timestamp": 1574696597914,
     "user": {
      "displayName": "Harish R",
      "photoUrl": "https://lh3.googleusercontent.com/a-/AAuE7mAE0wSBpKU4H-UVhIdqG_4lfvwlE_ZO2uIdmMZ7SQ=s64",
      "userId": "16536760646628309567"
     },
     "user_tz": -330
    },
    "id": "WjfsjDjPeekG",
    "outputId": "8c3bf21a-beff-49e3-bede-bed4d0c5242f"
   },
   "outputs": [
    {
     "data": {
      "text/plain": [
       "dtype('int64')"
      ]
     },
     "execution_count": 22,
     "metadata": {},
     "output_type": "execute_result"
    }
   ],
   "source": [
    "df['Total Checkouts'].dtype"
   ]
  },
  {
   "cell_type": "code",
   "execution_count": 23,
   "metadata": {
    "colab": {},
    "colab_type": "code",
    "id": "5MxcyaFHeekK"
   },
   "outputs": [],
   "source": [
    "from sklearn.preprocessing import StandardScaler\n",
    "from sklearn.preprocessing import normalize\n",
    "from sklearn import preprocessing"
   ]
  },
  {
   "cell_type": "code",
   "execution_count": 24,
   "metadata": {
    "colab": {
     "base_uri": "https://localhost:8080/",
     "height": 144
    },
    "colab_type": "code",
    "executionInfo": {
     "elapsed": 5608,
     "status": "ok",
     "timestamp": 1574696597919,
     "user": {
      "displayName": "Harish R",
      "photoUrl": "https://lh3.googleusercontent.com/a-/AAuE7mAE0wSBpKU4H-UVhIdqG_4lfvwlE_ZO2uIdmMZ7SQ=s64",
      "userId": "16536760646628309567"
     },
     "user_tz": -330
    },
    "id": "Z6PuVAmweekM",
    "outputId": "1bf83096-12c5-48e9-d838-a18ad96e41d8"
   },
   "outputs": [
    {
     "data": {
      "text/plain": [
       "Index(['Patron Type Code', 'Patron Type Definition', 'Total Checkouts',\n",
       "       'Total Renewals', 'Age Range', 'Home Library Code',\n",
       "       'Home Library Definition', 'Circulation Active Month',\n",
       "       'Circulation Active Year', 'Notice Preference Code',\n",
       "       'Notice Preference Definition', 'Provided Email Address',\n",
       "       'Year Patron Registered', 'Outside of County', 'Supervisor District'],\n",
       "      dtype='object')"
      ]
     },
     "execution_count": 24,
     "metadata": {},
     "output_type": "execute_result"
    }
   ],
   "source": [
    "df.columns"
   ]
  },
  {
   "cell_type": "code",
   "execution_count": 25,
   "metadata": {
    "colab": {},
    "colab_type": "code",
    "id": "VxcspysDeekR"
   },
   "outputs": [],
   "source": [
    "df = df[['Patron Type Definition','Total Checkouts','Total Renewals', 'Age Range','Circulation Active Month','Circulation Active Year',\n",
    "       'Notice Preference Definition', 'Provided Email Address','Year Patron Registered', 'Outside of County']]"
   ]
  },
  {
   "cell_type": "code",
   "execution_count": 26,
   "metadata": {
    "colab": {
     "base_uri": "https://localhost:8080/",
     "height": 414
    },
    "colab_type": "code",
    "executionInfo": {
     "elapsed": 5588,
     "status": "ok",
     "timestamp": 1574696597927,
     "user": {
      "displayName": "Harish R",
      "photoUrl": "https://lh3.googleusercontent.com/a-/AAuE7mAE0wSBpKU4H-UVhIdqG_4lfvwlE_ZO2uIdmMZ7SQ=s64",
      "userId": "16536760646628309567"
     },
     "user_tz": -330
    },
    "id": "fc9WukSXeekT",
    "outputId": "e75f8013-7e9f-4626-f0d2-b1b0f119a6c1"
   },
   "outputs": [
    {
     "data": {
      "text/html": [
       "<div>\n",
       "<style scoped>\n",
       "    .dataframe tbody tr th:only-of-type {\n",
       "        vertical-align: middle;\n",
       "    }\n",
       "\n",
       "    .dataframe tbody tr th {\n",
       "        vertical-align: top;\n",
       "    }\n",
       "\n",
       "    .dataframe thead th {\n",
       "        text-align: right;\n",
       "    }\n",
       "</style>\n",
       "<table border=\"1\" class=\"dataframe\">\n",
       "  <thead>\n",
       "    <tr style=\"text-align: right;\">\n",
       "      <th></th>\n",
       "      <th>Patron Type Definition</th>\n",
       "      <th>Total Checkouts</th>\n",
       "      <th>Total Renewals</th>\n",
       "      <th>Age Range</th>\n",
       "      <th>Circulation Active Month</th>\n",
       "      <th>Circulation Active Year</th>\n",
       "      <th>Notice Preference Definition</th>\n",
       "      <th>Provided Email Address</th>\n",
       "      <th>Year Patron Registered</th>\n",
       "      <th>Outside of County</th>\n",
       "    </tr>\n",
       "  </thead>\n",
       "  <tbody>\n",
       "    <tr>\n",
       "      <td>0</td>\n",
       "      <td>SENIOR</td>\n",
       "      <td>28</td>\n",
       "      <td>13</td>\n",
       "      <td>65 to 74 years</td>\n",
       "      <td>November</td>\n",
       "      <td>2012</td>\n",
       "      <td>email</td>\n",
       "      <td>True</td>\n",
       "      <td>2003</td>\n",
       "      <td>True</td>\n",
       "    </tr>\n",
       "    <tr>\n",
       "      <td>1</td>\n",
       "      <td>ADULT</td>\n",
       "      <td>21</td>\n",
       "      <td>10</td>\n",
       "      <td>55 to 59 years</td>\n",
       "      <td>October</td>\n",
       "      <td>2015</td>\n",
       "      <td>email</td>\n",
       "      <td>True</td>\n",
       "      <td>2003</td>\n",
       "      <td>False</td>\n",
       "    </tr>\n",
       "    <tr>\n",
       "      <td>2</td>\n",
       "      <td>ADULT</td>\n",
       "      <td>275</td>\n",
       "      <td>559</td>\n",
       "      <td>60 to 64 years</td>\n",
       "      <td>January</td>\n",
       "      <td>2015</td>\n",
       "      <td>email</td>\n",
       "      <td>True</td>\n",
       "      <td>2003</td>\n",
       "      <td>True</td>\n",
       "    </tr>\n",
       "    <tr>\n",
       "      <td>3</td>\n",
       "      <td>ADULT</td>\n",
       "      <td>73</td>\n",
       "      <td>38</td>\n",
       "      <td>45 to 54 years</td>\n",
       "      <td>February</td>\n",
       "      <td>2016</td>\n",
       "      <td>email</td>\n",
       "      <td>True</td>\n",
       "      <td>2003</td>\n",
       "      <td>False</td>\n",
       "    </tr>\n",
       "    <tr>\n",
       "      <td>4</td>\n",
       "      <td>ADULT</td>\n",
       "      <td>182</td>\n",
       "      <td>90</td>\n",
       "      <td>45 to 54 years</td>\n",
       "      <td>July</td>\n",
       "      <td>2016</td>\n",
       "      <td>email</td>\n",
       "      <td>True</td>\n",
       "      <td>2003</td>\n",
       "      <td>False</td>\n",
       "    </tr>\n",
       "  </tbody>\n",
       "</table>\n",
       "</div>"
      ],
      "text/plain": [
       "  Patron Type Definition  Total Checkouts  Total Renewals       Age Range  \\\n",
       "0                 SENIOR               28              13  65 to 74 years   \n",
       "1                  ADULT               21              10  55 to 59 years   \n",
       "2                  ADULT              275             559  60 to 64 years   \n",
       "3                  ADULT               73              38  45 to 54 years   \n",
       "4                  ADULT              182              90  45 to 54 years   \n",
       "\n",
       "  Circulation Active Month Circulation Active Year  \\\n",
       "0                 November                    2012   \n",
       "1                  October                    2015   \n",
       "2                  January                    2015   \n",
       "3                 February                    2016   \n",
       "4                     July                    2016   \n",
       "\n",
       "  Notice Preference Definition  Provided Email Address  \\\n",
       "0                        email                    True   \n",
       "1                        email                    True   \n",
       "2                        email                    True   \n",
       "3                        email                    True   \n",
       "4                        email                    True   \n",
       "\n",
       "   Year Patron Registered  Outside of County  \n",
       "0                    2003               True  \n",
       "1                    2003              False  \n",
       "2                    2003               True  \n",
       "3                    2003              False  \n",
       "4                    2003              False  "
      ]
     },
     "execution_count": 26,
     "metadata": {},
     "output_type": "execute_result"
    }
   ],
   "source": [
    "df.head()"
   ]
  },
  {
   "cell_type": "code",
   "execution_count": 27,
   "metadata": {
    "colab": {
     "base_uri": "https://localhost:8080/",
     "height": 35
    },
    "colab_type": "code",
    "executionInfo": {
     "elapsed": 5576,
     "status": "ok",
     "timestamp": 1574696597932,
     "user": {
      "displayName": "Harish R",
      "photoUrl": "https://lh3.googleusercontent.com/a-/AAuE7mAE0wSBpKU4H-UVhIdqG_4lfvwlE_ZO2uIdmMZ7SQ=s64",
      "userId": "16536760646628309567"
     },
     "user_tz": -330
    },
    "id": "z8wm1OHNeekX",
    "outputId": "b0c10f78-fe82-4b1b-d38f-fae40d3def1a"
   },
   "outputs": [
    {
     "data": {
      "text/plain": [
       "37260254"
      ]
     },
     "execution_count": 27,
     "metadata": {},
     "output_type": "execute_result"
    }
   ],
   "source": [
    "s = df.groupby(\"Patron Type Definition\").get_group(\"ADULT\")\n",
    "s['Total Checkouts'].sum()"
   ]
  },
  {
   "cell_type": "code",
   "execution_count": 28,
   "metadata": {
    "colab": {
     "base_uri": "https://localhost:8080/",
     "height": 108
    },
    "colab_type": "code",
    "executionInfo": {
     "elapsed": 5561,
     "status": "ok",
     "timestamp": 1574696597934,
     "user": {
      "displayName": "Harish R",
      "photoUrl": "https://lh3.googleusercontent.com/a-/AAuE7mAE0wSBpKU4H-UVhIdqG_4lfvwlE_ZO2uIdmMZ7SQ=s64",
      "userId": "16536760646628309567"
     },
     "user_tz": -330
    },
    "id": "TMoQx66Keeka",
    "outputId": "69dcbcb3-1373-4dbc-ad49-4eb4fb1627e2"
   },
   "outputs": [
    {
     "data": {
      "text/plain": [
       "array(['SENIOR', 'ADULT', 'DIGITAL ACCESS CARD', 'RETIRED STAFF', 'STAFF',\n",
       "       'SPECIAL', 'WELCOME', 'TEACHER CARD', 'AT USER ADULT', 'VISITOR',\n",
       "       'BOOKS BY MAIL', 'JUVENILE', 'AT USER SENIOR', 'FRIENDS FOR LIFE',\n",
       "       'AT USER WELCOME', 'AT USER TEEN', 'YOUNG ADULT',\n",
       "       'AT USER JUVENILE'], dtype=object)"
      ]
     },
     "execution_count": 28,
     "metadata": {},
     "output_type": "execute_result"
    }
   ],
   "source": [
    "df['Patron Type Definition'].unique()"
   ]
  },
  {
   "cell_type": "code",
   "execution_count": 29,
   "metadata": {
    "colab": {
     "base_uri": "https://localhost:8080/",
     "height": 72
    },
    "colab_type": "code",
    "executionInfo": {
     "elapsed": 5547,
     "status": "ok",
     "timestamp": 1574696597938,
     "user": {
      "displayName": "Harish R",
      "photoUrl": "https://lh3.googleusercontent.com/a-/AAuE7mAE0wSBpKU4H-UVhIdqG_4lfvwlE_ZO2uIdmMZ7SQ=s64",
      "userId": "16536760646628309567"
     },
     "user_tz": -330
    },
    "id": "6Xd2WFAkeeke",
    "outputId": "0804b39e-ef41-4d22-c2ad-63e0da5e09bf"
   },
   "outputs": [
    {
     "name": "stdout",
     "output_type": "stream",
     "text": [
      "0.5432236986793966\n",
      "68590995\n",
      "0.6554078383087555\n"
     ]
    }
   ],
   "source": [
    "a = df[df[\"Patron Type Definition\"]==\"ADULT\"]\n",
    "c1 = a[\"Total Checkouts\"].sum()\n",
    "c2 = df[\"Total Checkouts\"].sum()-c1\n",
    "print(c1/(c1+c2))\n",
    "print(c1+c2)\n",
    "r1 = a[\"Total Renewals\"].sum()\n",
    "r2 = df[\"Total Renewals\"].sum()-r1\n",
    "print(r1/(r1+r2))"
   ]
  },
  {
   "cell_type": "code",
   "execution_count": 30,
   "metadata": {
    "colab": {
     "base_uri": "https://localhost:8080/",
     "height": 452
    },
    "colab_type": "code",
    "executionInfo": {
     "elapsed": 7370,
     "status": "ok",
     "timestamp": 1574696599779,
     "user": {
      "displayName": "Harish R",
      "photoUrl": "https://lh3.googleusercontent.com/a-/AAuE7mAE0wSBpKU4H-UVhIdqG_4lfvwlE_ZO2uIdmMZ7SQ=s64",
      "userId": "16536760646628309567"
     },
     "user_tz": -330
    },
    "id": "m2oIhNH7eekj",
    "outputId": "c4fa9126-6de0-4c1a-ad32-ace80bd81854"
   },
   "outputs": [
    {
     "data": {
      "text/plain": [
       "<Figure size 640x480 with 1 Axes>"
      ]
     },
     "metadata": {},
     "output_type": "display_data"
    }
   ],
   "source": [
    "import matplotlib.pyplot as plt; plt.rcdefaults()\n",
    "objects = ('ADULT', 'OTHERS')\n",
    "y_pos = np.arange(len(objects))\n",
    "performance = [c1,c2]\n",
    "\n",
    "plt.bar(y_pos, performance, align='center', alpha=0.5)\n",
    "plt.xticks(y_pos, objects)\n",
    "plt.ylabel('NUMBER OF CHECKOUTS')\n",
    "plt.title('PLOT BETWEEN NUMBER OF CHECKOUTS AND ADULTS/OTHERS')\n",
    "\n",
    "plt.show()"
   ]
  },
  {
   "cell_type": "code",
   "execution_count": 31,
   "metadata": {
    "colab": {
     "base_uri": "https://localhost:8080/",
     "height": 452
    },
    "colab_type": "code",
    "executionInfo": {
     "elapsed": 7350,
     "status": "ok",
     "timestamp": 1574696599787,
     "user": {
      "displayName": "Harish R",
      "photoUrl": "https://lh3.googleusercontent.com/a-/AAuE7mAE0wSBpKU4H-UVhIdqG_4lfvwlE_ZO2uIdmMZ7SQ=s64",
      "userId": "16536760646628309567"
     },
     "user_tz": -330
    },
    "id": "pX_v9js7eeko",
    "outputId": "73cad8b0-15f0-4587-b48a-483b41f008a3"
   },
   "outputs": [
    {
     "data": {
      "image/png": "[encoded data removed]",
      "text/plain": [
       "<Figure size 640x480 with 1 Axes>"
      ]
     },
     "metadata": {},
     "output_type": "display_data"
    }
   ],
   "source": [
    "import matplotlib.pyplot as plt; plt.rcdefaults()\n",
    "objects = ('ADULT', 'OTHERS')\n",
    "y_pos = np.arange(len(objects))\n",
    "performance = [r1,r2]\n",
    "\n",
    "plt.bar(y_pos, performance, align='center', alpha=0.5)\n",
    "plt.xticks(y_pos, objects)\n",
    "plt.ylabel('NUMBER OF RENEWALS')\n",
    "plt.title('PLOT BETWEEN NUMBER OF RENEWALS AND ADULTS/OTHERS')\n",
    "\n",
    "plt.show()"
   ]
  },
  {
   "cell_type": "code",
   "execution_count": 32,
   "metadata": {
    "colab": {
     "base_uri": "https://localhost:8080/",
     "height": 408
    },
    "colab_type": "code",
    "executionInfo": {
     "elapsed": 7327,
     "status": "ok",
     "timestamp": 1574696599791,
     "user": {
      "displayName": "Harish R",
      "photoUrl": "https://lh3.googleusercontent.com/a-/AAuE7mAE0wSBpKU4H-UVhIdqG_4lfvwlE_ZO2uIdmMZ7SQ=s64",
      "userId": "16536760646628309567"
     },
     "user_tz": -330
    },
    "id": "yYxzTLmgeekv",
    "outputId": "5926ca10-a012-4020-e9bc-d49a30b145f2"
   },
   "outputs": [
    {
     "data": {
      "image/png": "[encoded data removed]",
      "text/plain": [
       "<Figure size 640x480 with 1 Axes>"
      ]
     },
     "metadata": {},
     "output_type": "display_data"
    }
   ],
   "source": [
    "import matplotlib.pyplot as plt\n",
    "\n",
    "e = df[df['Notice Preference Definition']=='email']['Age Range'].count()\n",
    "ph = df[df['Notice Preference Definition']=='phone']['Age Range'].count()\n",
    "pr = df[df['Notice Preference Definition']=='print']['Age Range'].count()\n",
    "\n",
    "labels = 'Email', 'Phone', 'Print'\n",
    "sizes = [e,ph,pr]\n",
    "explode = (0.1, 0, 0)  # only \"explode\" the 2nd slice (i.e. 'Hogs')\n",
    "\n",
    "fig1, ax1 = plt.subplots()\n",
    "ax1.pie(sizes, explode=explode, labels=labels, autopct='%1.1f%%',\n",
    "        shadow=True, startangle=90)\n",
    "ax1.axis('equal')  # Equal aspect ratio ensures that pie is drawn as a circle.\n",
    "\n",
    "plt.show()\n"
   ]
  },
  {
   "cell_type": "code",
   "execution_count": 33,
   "metadata": {
    "colab": {},
    "colab_type": "code",
    "id": "VCAcQEn3eek3"
   },
   "outputs": [],
   "source": [
    "a1 = df[df[\"Patron Type Definition\"]==\"ADULT\"]\n",
    "c1 = a1[\"Total Checkouts\"].sum()\n",
    "c2 = df[\"Total Checkouts\"].sum()-c1\n",
    "PP1=c1/(c1+c2)  #POPULATION PROPRTION FOR CHECKOUTS\n",
    "r1 = a1[\"Total Renewals\"].sum()\n",
    "r2 = df[\"Total Renewals\"].sum()-r1\n",
    "PP2=(r1/(r1+r2))  #POPULATION PROPRTION FOR RENEWALS\n"
   ]
  },
  {
   "cell_type": "code",
   "execution_count": 34,
   "metadata": {
    "colab": {
     "base_uri": "https://localhost:8080/",
     "height": 35
    },
    "colab_type": "code",
    "executionInfo": {
     "elapsed": 7301,
     "status": "ok",
     "timestamp": 1574696599797,
     "user": {
      "displayName": "Harish R",
      "photoUrl": "https://lh3.googleusercontent.com/a-/AAuE7mAE0wSBpKU4H-UVhIdqG_4lfvwlE_ZO2uIdmMZ7SQ=s64",
      "userId": "16536760646628309567"
     },
     "user_tz": -330
    },
    "id": "GzkmUlGCeek7",
    "outputId": "778ae5a9-1ff2-4659-b4b7-ea4c9f8b36b4"
   },
   "outputs": [
    {
     "data": {
      "text/plain": [
       "0.5432236986793966"
      ]
     },
     "execution_count": 34,
     "metadata": {},
     "output_type": "execute_result"
    }
   ],
   "source": [
    "PP1"
   ]
  },
  {
   "cell_type": "code",
   "execution_count": 35,
   "metadata": {
    "colab": {
     "base_uri": "https://localhost:8080/",
     "height": 35
    },
    "colab_type": "code",
    "executionInfo": {
     "elapsed": 7285,
     "status": "ok",
     "timestamp": 1574696599799,
     "user": {
      "displayName": "Harish R",
      "photoUrl": "https://lh3.googleusercontent.com/a-/AAuE7mAE0wSBpKU4H-UVhIdqG_4lfvwlE_ZO2uIdmMZ7SQ=s64",
      "userId": "16536760646628309567"
     },
     "user_tz": -330
    },
    "id": "vJo8T94eeek9",
    "outputId": "897bfbfe-ef82-4190-feab-bc78a5c8ee73"
   },
   "outputs": [
    {
     "data": {
      "text/plain": [
       "0.6554078383087555"
      ]
     },
     "execution_count": 35,
     "metadata": {},
     "output_type": "execute_result"
    }
   ],
   "source": [
    "PP2"
   ]
  },
  {
   "cell_type": "code",
   "execution_count": 52,
   "metadata": {
    "colab": {},
    "colab_type": "code",
    "id": "GrcjWym1eelH"
   },
   "outputs": [],
   "source": [
    "import math\n",
    "std1=math.sqrt(PP1*(1-PP1))\n",
    "std2=math.sqrt(PP2*(1-PP2))"
   ]
  },
  {
   "cell_type": "code",
   "execution_count": 53,
   "metadata": {
    "colab": {},
    "colab_type": "code",
    "id": "Z9vjciebeelJ"
   },
   "outputs": [],
   "source": [
    "from scipy.stats import norm\n",
    "from math import sqrt\n",
    "#one sided hypothesis test(for smaller than in NULL hypothesis)\n",
    "def one_sided_hypo(sample_proportion, null_proportion, std_dev, sample_size, alpha,tail='left'):\n",
    "    actual_z = norm.ppf(alpha)\n",
    "    hypo_z = (sample_proportion - null_proportion) / (std_dev)\n",
    "    print('actual z value :', actual_z)\n",
    "    print('hypothesis z value :', hypo_z, '\\n')\n",
    "    if tail=='left':\n",
    "      if hypo_z >= actual_z:\n",
    "        return True\n",
    "      else:\n",
    "        return False\n",
    "    elif tail=='right':\n",
    "      if hypo_z <= actual_z:\n",
    "        return True\n",
    "      else:\n",
    "        return False\n",
    "    else:\n",
    "      raise ValueError('Invalid tail argument! Supply either left or right only!')\n",
    "\n",
    "    \n"
   ]
  },
  {
   "cell_type": "code",
   "execution_count": 54,
   "metadata": {
    "colab": {
     "base_uri": "https://localhost:8080/",
     "height": 90
    },
    "colab_type": "code",
    "executionInfo": {
     "elapsed": 7252,
     "status": "ok",
     "timestamp": 1574696599808,
     "user": {
      "displayName": "Harish R",
      "photoUrl": "https://lh3.googleusercontent.com/a-/AAuE7mAE0wSBpKU4H-UVhIdqG_4lfvwlE_ZO2uIdmMZ7SQ=s64",
      "userId": "16536760646628309567"
     },
     "user_tz": -330
    },
    "id": "wiDGaiSNeelM",
    "outputId": "f1e6c3b9-0cc0-4915-d38b-0b60c0f90d98"
   },
   "outputs": [
    {
     "name": "stdout",
     "output_type": "stream",
     "text": [
      "actual z value : -1.6448536269514729\n",
      "hypothesis z value : 0.08677223646833813 \n",
      "\n"
     ]
    },
    {
     "data": {
      "text/plain": [
       "True"
      ]
     },
     "execution_count": 54,
     "metadata": {},
     "output_type": "execute_result"
    }
   ],
   "source": [
    "# Basically our null hypothesis is LESS THAN 50% OF THE PEOPLE CHECKOUT ARE ADULTS ...\n",
    "# H0 : proprtion of adult checking out >= 0.5.\n",
    "# H1 : proprtion of adult checking out < 0.5.\n",
    "\n",
    "one_sided_hypo(PP1, 0.5, std1, c1+c2, 0.05,tail='left')\n"
   ]
  },
  {
   "cell_type": "code",
   "execution_count": 55,
   "metadata": {
    "colab": {
     "base_uri": "https://localhost:8080/",
     "height": 90
    },
    "colab_type": "code",
    "executionInfo": {
     "elapsed": 7234,
     "status": "ok",
     "timestamp": 1574696599811,
     "user": {
      "displayName": "Harish R",
      "photoUrl": "https://lh3.googleusercontent.com/a-/AAuE7mAE0wSBpKU4H-UVhIdqG_4lfvwlE_ZO2uIdmMZ7SQ=s64",
      "userId": "16536760646628309567"
     },
     "user_tz": -330
    },
    "id": "n52YfUmCeelR",
    "outputId": "0af8cc75-a308-44c9-ce4c-b95c2e22c71b"
   },
   "outputs": [
    {
     "name": "stdout",
     "output_type": "stream",
     "text": [
      "actual z value : -1.6448536269514729\n",
      "hypothesis z value : 0.32701253989366974 \n",
      "\n"
     ]
    },
    {
     "data": {
      "text/plain": [
       "True"
      ]
     },
     "execution_count": 55,
     "metadata": {},
     "output_type": "execute_result"
    }
   ],
   "source": [
    "# Basically our null hypothesis is LESS THAN 50% OF THE PEOPLE CHECKOUT ARE ADULTS ...\n",
    "# H0 : proprtion of adult renewing >= 0.5.\n",
    "# H1 : proprtion of adult renewing < 0.5.\n",
    "\n",
    "one_sided_hypo(PP2, 0.5, std2, r1+r2, 0.05,tail='left')\n",
    "\n",
    "# Hence it proves that H1 is true for all cases and we can reject H0."
   ]
  },
  {
   "cell_type": "code",
   "execution_count": 40,
   "metadata": {
    "colab": {
     "base_uri": "https://localhost:8080/",
     "height": 490
    },
    "colab_type": "code",
    "executionInfo": {
     "elapsed": 7216,
     "status": "ok",
     "timestamp": 1574696599812,
     "user": {
      "displayName": "Harish R",
      "photoUrl": "https://lh3.googleusercontent.com/a-/AAuE7mAE0wSBpKU4H-UVhIdqG_4lfvwlE_ZO2uIdmMZ7SQ=s64",
      "userId": "16536760646628309567"
     },
     "user_tz": -330
    },
    "id": "lgiXuEj1eelT",
    "outputId": "04a1f728-05c1-4a97-fe4e-5dcaae664577"
   },
   "outputs": [
    {
     "data": {
      "text/plain": [
       "<matplotlib.axes._subplots.AxesSubplot at 0x1fa9b39c898>"
      ]
     },
     "execution_count": 40,
     "metadata": {},
     "output_type": "execute_result"
    },
    {
     "data": {
      "image/png": "[encoded data removed]",
      "text/plain": [
       "<Figure size 640x480 with 1 Axes>"
      ]
     },
     "metadata": {},
     "output_type": "display_data"
    }
   ],
   "source": [
    "import seaborn as sns\n",
    "plt.title('Age Range vs Year Patron Registerd')\n",
    "sns.boxplot(y='Age Range',\n",
    "              x='Year Patron Registered',\n",
    "              data=df,order=df['Age Range'].unique())\n",
    "\n",
    "#INSIGHTS:\n",
    "#QUITE EVIDENT THAT NEWER GENERATION HAVE REGISTERED IN RECENT YEARS AS COMPARED TO OLDER GENERATION ADULTS.\n",
    "# THE MIDDLE AGED HAVE REGISTERED AFTER 2005 or more."
   ]
  },
  {
   "cell_type": "code",
   "execution_count": 41,
   "metadata": {
    "colab": {
     "base_uri": "https://localhost:8080/",
     "height": 110
    },
    "colab_type": "code",
    "executionInfo": {
     "elapsed": 7197,
     "status": "ok",
     "timestamp": 1574696599815,
     "user": {
      "displayName": "Harish R",
      "photoUrl": "https://lh3.googleusercontent.com/a-/AAuE7mAE0wSBpKU4H-UVhIdqG_4lfvwlE_ZO2uIdmMZ7SQ=s64",
      "userId": "16536760646628309567"
     },
     "user_tz": -330
    },
    "id": "NAnQPYsTeelV",
    "outputId": "9f922f21-88b2-4636-f539-cc705c56f726"
   },
   "outputs": [
    {
     "name": "stdout",
     "output_type": "stream",
     "text": [
      "[-2.66465272e-17  5.36957727e-18]\n",
      "[1. 1.]\n"
     ]
    },
    {
     "name": "stderr",
     "output_type": "stream",
     "text": [
      "C:\\Users\\Anant\\Anaconda3\\lib\\site-packages\\ipykernel_launcher.py:4: FutureWarning: Method .as_matrix will be removed in a future version. Use .values instead.\n",
      "  after removing the cwd from sys.path.\n",
      "C:\\Users\\Anant\\Anaconda3\\lib\\site-packages\\sklearn\\utils\\validation.py:595: DataConversionWarning: Data with input dtype int64 was converted to float64 by StandardScaler.\n",
      "  warnings.warn(msg, DataConversionWarning)\n",
      "C:\\Users\\Anant\\Anaconda3\\lib\\site-packages\\sklearn\\utils\\validation.py:595: DataConversionWarning: Data with input dtype int64 was converted to float64 by StandardScaler.\n",
      "  warnings.warn(msg, DataConversionWarning)\n"
     ]
    }
   ],
   "source": [
    "from sklearn.preprocessing import StandardScaler\n",
    "from sklearn.preprocessing import normalize\n",
    "\n",
    "X = df.as_matrix(columns=df.columns[1:3])\n",
    "scaler = StandardScaler()\n",
    "scaler.fit(X)\n",
    "X = scaler.transform(X)\n",
    "print(X.mean(axis=0))\n",
    "print(X.std(axis=0))\n",
    "\n",
    "df['Total Checkouts'] = X[:,0]\n",
    "df['Total Renewals'] = X[:,1]"
   ]
  },
  {
   "cell_type": "code",
   "execution_count": 42,
   "metadata": {
    "colab": {},
    "colab_type": "code",
    "id": "0euAw6TDeela"
   },
   "outputs": [],
   "source": [
    "# t = pd.DataFrame(df.groupby(['Year Patron Registered'])['Total Checkouts'].sum())\n",
    "from math import sqrt\n",
    "import numpy as np\n",
    "\n",
    "def remove_outliers(x,y):\n",
    "  up=np.percentile(y,75)\n",
    "  down=np.percentile(y,25)\n",
    "  iqr=up-down\n",
    "  up_limit=up+1.5*iqr\n",
    "  down_limit=down-1.5*iqr\n",
    "  print(up_limit,down_limit)\n",
    "  x,y=zip(*[(i,j) for i,j in zip(x,y) if j>=down_limit and j<=up_limit])\n",
    "  print(x,y)\n",
    "  return np.array(x),np.array(y)\n",
    "\n",
    "def linear_regression(x, y): \n",
    "    \n",
    "    n = np.size(x) \n",
    "    x,y= remove_outliers(x,y)\n",
    "  \n",
    "    # mean of x and y vector \n",
    "    m_x, m_y = np.mean(x), np.mean(y) \n",
    "    \n",
    "    SS_xy = np.sum((x-m_x) * (y-m_y)) \n",
    "    SS_xx = np.sum((x-m_x) ** 2)\n",
    "    SS_yy = np.sum((y-m_y) ** 2)\n",
    "  \n",
    "    # calculating regression coefficients \n",
    "    b_1 = SS_xy / SS_xx \n",
    "    b_0 = m_y - b_1*m_x\n",
    "    print('b_0 : ', b_0)\n",
    "    print('b_1 : ', b_1)\n",
    "    \n",
    "    # predicted response vector \n",
    "    y_preds = b_0 + b_1*x\n",
    "    \n",
    "    print(\"CORRELATION COEFFICIENT IS : \",SS_xy/(sqrt(SS_xx)*sqrt(SS_yy)))\n",
    "        \n",
    "    # plotting the actual points as scatter plot \n",
    "    plt.scatter(x, y, color = \"m\", \n",
    "               marker = \"o\", s = 30) \n",
    "  \n",
    "    # plotting the regression line \n",
    "    plt.plot(x, y_preds, color = \"g\") \n",
    "  \n",
    "    # putting labels \n",
    "    plt.xlabel('x') \n",
    "    plt.ylabel('y') \n",
    "  \n",
    "    # function to show plot \n",
    "    plt.show()\n",
    "# x = np.arange(2003,2017) \n",
    "# y = np.array([33015605,3171651,3189475,3281383,3670524,4283517,4201454,3574771,3177527,2509191,1993252,1493308,853336,176001]) \n",
    "# linear_regression(x, y)\n",
    "\n",
    "\n",
    "\n",
    "# print(remove_outliers([1,2,3,4,5,6],[2,4,6,5,-6,12]))\n",
    "\n"
   ]
  },
  {
   "cell_type": "code",
   "execution_count": 43,
   "metadata": {
    "colab": {
     "base_uri": "https://localhost:8080/",
     "height": 520
    },
    "colab_type": "code",
    "executionInfo": {
     "elapsed": 7177,
     "status": "ok",
     "timestamp": 1574696599820,
     "user": {
      "displayName": "Harish R",
      "photoUrl": "https://lh3.googleusercontent.com/a-/AAuE7mAE0wSBpKU4H-UVhIdqG_4lfvwlE_ZO2uIdmMZ7SQ=s64",
      "userId": "16536760646628309567"
     },
     "user_tz": -330
    },
    "id": "rFtH0-_VOC1H",
    "outputId": "e2179ef5-4abb-4d93-89ee-919c00260acd"
   },
   "outputs": [
    {
     "name": "stdout",
     "output_type": "stream",
     "text": [
      "2255281.875 -1341955.125\n",
      "(2003, 2004, 2005, 2006, 2007, 2008, 2009, 2010, 2011, 2012, 2013, 2014) (20, 1270, 3173, 6421, 8772, 16065, 31172, 49485, 68826, 181524, 1147916, 2098459)\n",
      "b_0 :  -246199240.7878788\n",
      "b_1 :  122728.56993006993\n",
      "CORRELATION COEFFICIENT IS :  0.6787804317800281\n"
     ]
    },
    {
     "data": {
      "image/png": "[encoded data removed]",
      "text/plain": [
       "<Figure size 640x480 with 1 Axes>"
      ]
     },
     "metadata": {},
     "output_type": "display_data"
    }
   ],
   "source": [
    "t = pd.DataFrame(df.groupby(['Circulation Active Year'])['Total Renewals'].sum())\n",
    "from math import sqrt\n",
    "\n",
    "def linear_regression(x, y): \n",
    "    x,y= remove_outliers(x,y)    \n",
    "    n = np.size(x) \n",
    "  \n",
    "    # mean of x and y vector \n",
    "    m_x, m_y = np.mean(x), np.mean(y) \n",
    "    \n",
    "    SS_xy = np.sum((x-m_x) * (y-m_y)) \n",
    "    SS_xx = np.sum((x-m_x) ** 2)\n",
    "    SS_yy = np.sum((y-m_y) ** 2)\n",
    "  \n",
    "    # calculating regression coefficients \n",
    "    b_1 = SS_xy / SS_xx \n",
    "    b_0 = m_y - b_1*m_x\n",
    "    print('b_0 : ', b_0)\n",
    "    print('b_1 : ', b_1)\n",
    "    \n",
    "    # predicted response vector \n",
    "    y_preds = b_0 + b_1*x\n",
    "    \n",
    "    print(\"CORRELATION COEFFICIENT IS : \",SS_xy/(sqrt(SS_xx)*sqrt(SS_yy)))\n",
    "        \n",
    "    # plotting the actual points as scatter plot \n",
    "    plt.scatter(x, y, color = \"m\", \n",
    "               marker = \"o\", s = 30) \n",
    "  \n",
    "    # plotting the regression line \n",
    "    plt.plot(x, y_preds, color = \"g\") \n",
    "  \n",
    "    # putting labels \n",
    "    plt.xlabel('x') \n",
    "    plt.ylabel('y') \n",
    "  \n",
    "    # function to show plot \n",
    "    plt.show()\n",
    "    \n",
    "x = np.arange(2003,2017) \n",
    "y = np.array([20,1270,3173,6421,8772,16065,31172,49485,68826,181524,1147916,2098459,3116583,18532090]) \n",
    "linear_regression(x, y)\n"
   ]
  },
  {
   "cell_type": "code",
   "execution_count": 44,
   "metadata": {
    "colab": {
     "base_uri": "https://localhost:8080/",
     "height": 596
    },
    "colab_type": "code",
    "executionInfo": {
     "elapsed": 7159,
     "status": "ok",
     "timestamp": 1574696599821,
     "user": {
      "displayName": "Harish R",
      "photoUrl": "https://lh3.googleusercontent.com/a-/AAuE7mAE0wSBpKU4H-UVhIdqG_4lfvwlE_ZO2uIdmMZ7SQ=s64",
      "userId": "16536760646628309567"
     },
     "user_tz": -330
    },
    "id": "aZBzWru1eelc",
    "outputId": "c4cb017e-1ddd-43f2-c21a-dbea0d0fa84a"
   },
   "outputs": [
    {
     "name": "stdout",
     "output_type": "stream",
     "text": [
      "1949200.0 -62602.0\n",
      "(2004, 2005, 2006, 2007, 2008, 2009, 2010, 2011, 2012, 2013, 2014, 2015, 2016) (1111567, 1045668, 1060760, 1222510, 1446254, 1319041, 1089887, 987952, 827093, 646734, 462326, 270062, 46251)\n",
      "[2004 2005 2006 2007 2008 2009 2010 2011 2012 2013 2014 2015 2016] [1111567 1045668 1060760 1222510 1446254 1319041 1089887  987952  827093\n",
      "  646734  462326  270062   46251]\n",
      "b_0 :  177153359.78021973\n",
      "b_1 :  -87694.51098901097\n",
      "CORRELATION COEFFICIENT IS :  -0.8167263457219942\n"
     ]
    },
    {
     "data": {
      "image/png": "[encoded data removed]",
      "text/plain": [
       "<Figure size 640x480 with 1 Axes>"
      ]
     },
     "metadata": {},
     "output_type": "display_data"
    }
   ],
   "source": [
    "t = pd.DataFrame(df.groupby(['Year Patron Registered'])['Total Renewals'].sum())\n",
    "from math import sqrt\n",
    "\n",
    "def linear_regression(x, y): \n",
    "    \n",
    "    n = np.size(x) \n",
    "    x,y= remove_outliers(x,y)\n",
    "    print(x,y)\n",
    "    # mean of x and y vector \n",
    "    m_x, m_y = np.mean(x), np.mean(y) \n",
    "    \n",
    "    SS_xy = np.sum((x-m_x) * (y-m_y)) \n",
    "    SS_xx = np.sum((x-m_x) ** 2)\n",
    "    SS_yy = np.sum((y-m_y) ** 2)\n",
    "  \n",
    "    # calculating regression coefficients \n",
    "    b_1 = SS_xy / SS_xx \n",
    "    b_0 = m_y - b_1*m_x\n",
    "    print('b_0 : ', b_0)\n",
    "    print('b_1 : ', b_1)\n",
    "    \n",
    "    # predicted response vector \n",
    "    y_preds = b_0 + b_1*x\n",
    "    \n",
    "    print(\"CORRELATION COEFFICIENT IS : \",SS_xy/(sqrt(SS_xx)*sqrt(SS_yy)))\n",
    "        \n",
    "    # plotting the actual points as scatter plot \n",
    "    plt.scatter(x, y, color = \"m\", \n",
    "               marker = \"o\", s = 30) \n",
    "  \n",
    "    # plotting the regression line \n",
    "    plt.plot(x, y_preds, color = \"g\") \n",
    "  \n",
    "    # putting labels \n",
    "    plt.xlabel('x') \n",
    "    plt.ylabel('y') \n",
    "  \n",
    "    # function to show plot \n",
    "    plt.show()\n",
    "    \n",
    "x = np.arange(2003,2017) \n",
    "y = np.array([13725671,1111567,1045668,1060760,1222510,1446254,1319041,1089887,987952,827093,646734,462326,270062,46251]) \n",
    "linear_regression(x, y)\n"
   ]
  },
  {
   "cell_type": "code",
   "execution_count": 45,
   "metadata": {
    "colab": {
     "base_uri": "https://localhost:8080/",
     "height": 1000
    },
    "colab_type": "code",
    "executionInfo": {
     "elapsed": 8507,
     "status": "ok",
     "timestamp": 1574696601185,
     "user": {
      "displayName": "Harish R",
      "photoUrl": "https://lh3.googleusercontent.com/a-/AAuE7mAE0wSBpKU4H-UVhIdqG_4lfvwlE_ZO2uIdmMZ7SQ=s64",
      "userId": "16536760646628309567"
     },
     "user_tz": -330
    },
    "id": "I0V_d1ZXOCU9",
    "outputId": "d026326a-a79e-406c-cdfb-7c13111bcca8"
   },
   "outputs": [
    {
     "name": "stdout",
     "output_type": "stream",
     "text": [
      "6813912.875 -4059002.125\n",
      "(2003, 2004, 2005, 2006, 2007, 2008, 2009, 2010, 2011, 2012, 2013, 2014) (49, 4226, 9165, 16523, 23795, 40294, 73091, 146861, 191237, 531500, 3471593, 6259266)\n",
      "b_0 :  -736416027.2727274\n",
      "b_1 :  367096.5034965035\n",
      "CORRELATION COEFFICIENT IS :  0.6780355167050389\n"
     ]
    },
    {
     "data": {
      "image/png": "[encoded data removed]",
      "text/plain": [
       "<Figure size 640x480 with 1 Axes>"
      ]
     },
     "metadata": {},
     "output_type": "display_data"
    },
    {
     "data": {
      "text/html": [
       "<div>\n",
       "<style scoped>\n",
       "    .dataframe tbody tr th:only-of-type {\n",
       "        vertical-align: middle;\n",
       "    }\n",
       "\n",
       "    .dataframe tbody tr th {\n",
       "        vertical-align: top;\n",
       "    }\n",
       "\n",
       "    .dataframe thead th {\n",
       "        text-align: right;\n",
       "    }\n",
       "</style>\n",
       "<table border=\"1\" class=\"dataframe\">\n",
       "  <thead>\n",
       "    <tr style=\"text-align: right;\">\n",
       "      <th></th>\n",
       "      <th>Total Checkouts</th>\n",
       "    </tr>\n",
       "    <tr>\n",
       "      <th>Circulation Active Year</th>\n",
       "      <th></th>\n",
       "    </tr>\n",
       "  </thead>\n",
       "  <tbody>\n",
       "    <tr>\n",
       "      <td>2003</td>\n",
       "      <td>-2.034133</td>\n",
       "    </tr>\n",
       "    <tr>\n",
       "      <td>2004</td>\n",
       "      <td>-111.002023</td>\n",
       "    </tr>\n",
       "    <tr>\n",
       "      <td>2005</td>\n",
       "      <td>-165.808136</td>\n",
       "    </tr>\n",
       "    <tr>\n",
       "      <td>2006</td>\n",
       "      <td>-192.433148</td>\n",
       "    </tr>\n",
       "    <tr>\n",
       "      <td>2007</td>\n",
       "      <td>-263.161443</td>\n",
       "    </tr>\n",
       "    <tr>\n",
       "      <td>2008</td>\n",
       "      <td>-429.941891</td>\n",
       "    </tr>\n",
       "    <tr>\n",
       "      <td>2009</td>\n",
       "      <td>-623.993102</td>\n",
       "    </tr>\n",
       "    <tr>\n",
       "      <td>2010</td>\n",
       "      <td>-900.178090</td>\n",
       "    </tr>\n",
       "    <tr>\n",
       "      <td>2011</td>\n",
       "      <td>-1197.593225</td>\n",
       "    </tr>\n",
       "    <tr>\n",
       "      <td>2012</td>\n",
       "      <td>-2873.233738</td>\n",
       "    </tr>\n",
       "    <tr>\n",
       "      <td>2013</td>\n",
       "      <td>-11380.098920</td>\n",
       "    </tr>\n",
       "    <tr>\n",
       "      <td>2014</td>\n",
       "      <td>-13034.625538</td>\n",
       "    </tr>\n",
       "    <tr>\n",
       "      <td>2015</td>\n",
       "      <td>-13153.465412</td>\n",
       "    </tr>\n",
       "    <tr>\n",
       "      <td>2016</td>\n",
       "      <td>44327.568800</td>\n",
       "    </tr>\n",
       "  </tbody>\n",
       "</table>\n",
       "</div>"
      ],
      "text/plain": [
       "                         Total Checkouts\n",
       "Circulation Active Year                 \n",
       "2003                           -2.034133\n",
       "2004                         -111.002023\n",
       "2005                         -165.808136\n",
       "2006                         -192.433148\n",
       "2007                         -263.161443\n",
       "2008                         -429.941891\n",
       "2009                         -623.993102\n",
       "2010                         -900.178090\n",
       "2011                        -1197.593225\n",
       "2012                        -2873.233738\n",
       "2013                       -11380.098920\n",
       "2014                       -13034.625538\n",
       "2015                       -13153.465412\n",
       "2016                        44327.568800"
      ]
     },
     "execution_count": 45,
     "metadata": {},
     "output_type": "execute_result"
    }
   ],
   "source": [
    "t = pd.DataFrame(df.groupby(['Circulation Active Year'])['Total Checkouts'].sum())\n",
    "from math import sqrt\n",
    "\n",
    "def linear_regression(x, y): \n",
    "    \n",
    "    n = np.size(x) \n",
    "    x,y= remove_outliers(x,y)\n",
    "  \n",
    "    # mean of x and y vector \n",
    "    m_x, m_y = np.mean(x), np.mean(y) \n",
    "    \n",
    "    SS_xy = np.sum((x-m_x) * (y-m_y)) \n",
    "    SS_xx = np.sum((x-m_x) ** 2)\n",
    "    SS_yy = np.sum((y-m_y) ** 2)\n",
    "  \n",
    "    # calculating regression coefficients \n",
    "    b_1 = SS_xy / SS_xx \n",
    "    b_0 = m_y - b_1*m_x\n",
    "    print('b_0 : ', b_0)\n",
    "    print('b_1 : ', b_1)\n",
    "    \n",
    "    # predicted response vector \n",
    "    y_preds = b_0 + b_1*x\n",
    "    \n",
    "    print(\"CORRELATION COEFFICIENT IS : \",SS_xy/(sqrt(SS_xx)*sqrt(SS_yy)))\n",
    "        \n",
    "    # plotting the actual points as scatter plot \n",
    "    plt.scatter(x, y, color = \"m\", \n",
    "               marker = \"o\", s = 30) \n",
    "  \n",
    "    # plotting the regression line \n",
    "    plt.plot(x, y_preds, color = \"g\") \n",
    "  \n",
    "    # putting labels \n",
    "    plt.xlabel('x') \n",
    "    plt.ylabel('y') \n",
    "  \n",
    "    # function to show plot \n",
    "    plt.show()\n",
    "    \n",
    "x = np.arange(2003,2017) \n",
    "y = np.array([49,4226,9165,16523,23795,40294,73091,146861,191237,531500,3471593,6259266,9208982,48614413]) \n",
    "linear_regression(x, y)\n",
    "\n",
    "t"
   ]
  },
  {
   "cell_type": "code",
   "execution_count": 46,
   "metadata": {
    "colab": {
     "base_uri": "https://localhost:8080/",
     "height": 806
    },
    "colab_type": "code",
    "executionInfo": {
     "elapsed": 8493,
     "status": "ok",
     "timestamp": 1574696601187,
     "user": {
      "displayName": "Harish R",
      "photoUrl": "https://lh3.googleusercontent.com/a-/AAuE7mAE0wSBpKU4H-UVhIdqG_4lfvwlE_ZO2uIdmMZ7SQ=s64",
      "userId": "16536760646628309567"
     },
     "user_tz": -330
    },
    "id": "t08UL20Geeli",
    "outputId": "997b4d94-5550-463a-b9b9-cdc734db30d6"
   },
   "outputs": [
    {
     "data": {
      "text/html": [
       "<div>\n",
       "<style scoped>\n",
       "    .dataframe tbody tr th:only-of-type {\n",
       "        vertical-align: middle;\n",
       "    }\n",
       "\n",
       "    .dataframe tbody tr th {\n",
       "        vertical-align: top;\n",
       "    }\n",
       "\n",
       "    .dataframe thead th {\n",
       "        text-align: right;\n",
       "    }\n",
       "</style>\n",
       "<table border=\"1\" class=\"dataframe\">\n",
       "  <thead>\n",
       "    <tr style=\"text-align: right;\">\n",
       "      <th></th>\n",
       "      <th>Patron Type Definition</th>\n",
       "      <th>Total Checkouts</th>\n",
       "      <th>Total Renewals</th>\n",
       "      <th>Age Range</th>\n",
       "      <th>Circulation Active Month</th>\n",
       "      <th>Circulation Active Year</th>\n",
       "      <th>Notice Preference Definition</th>\n",
       "      <th>Provided Email Address</th>\n",
       "      <th>Year Patron Registered</th>\n",
       "      <th>Outside of County</th>\n",
       "    </tr>\n",
       "  </thead>\n",
       "  <tbody>\n",
       "    <tr>\n",
       "      <td>0</td>\n",
       "      <td>SENIOR</td>\n",
       "      <td>-0.295308</td>\n",
       "      <td>-0.207357</td>\n",
       "      <td>65 to 74 years</td>\n",
       "      <td>November</td>\n",
       "      <td>2012</td>\n",
       "      <td>email</td>\n",
       "      <td>True</td>\n",
       "      <td>2003</td>\n",
       "      <td>True</td>\n",
       "    </tr>\n",
       "    <tr>\n",
       "      <td>1</td>\n",
       "      <td>ADULT</td>\n",
       "      <td>-0.310736</td>\n",
       "      <td>-0.220690</td>\n",
       "      <td>55 to 59 years</td>\n",
       "      <td>October</td>\n",
       "      <td>2015</td>\n",
       "      <td>email</td>\n",
       "      <td>True</td>\n",
       "      <td>2003</td>\n",
       "      <td>False</td>\n",
       "    </tr>\n",
       "    <tr>\n",
       "      <td>2</td>\n",
       "      <td>ADULT</td>\n",
       "      <td>0.249101</td>\n",
       "      <td>2.219206</td>\n",
       "      <td>60 to 64 years</td>\n",
       "      <td>January</td>\n",
       "      <td>2015</td>\n",
       "      <td>email</td>\n",
       "      <td>True</td>\n",
       "      <td>2003</td>\n",
       "      <td>True</td>\n",
       "    </tr>\n",
       "    <tr>\n",
       "      <td>3</td>\n",
       "      <td>ADULT</td>\n",
       "      <td>-0.196124</td>\n",
       "      <td>-0.096251</td>\n",
       "      <td>45 to 54 years</td>\n",
       "      <td>February</td>\n",
       "      <td>2016</td>\n",
       "      <td>email</td>\n",
       "      <td>True</td>\n",
       "      <td>2003</td>\n",
       "      <td>False</td>\n",
       "    </tr>\n",
       "    <tr>\n",
       "      <td>4</td>\n",
       "      <td>ADULT</td>\n",
       "      <td>0.044121</td>\n",
       "      <td>0.134851</td>\n",
       "      <td>45 to 54 years</td>\n",
       "      <td>July</td>\n",
       "      <td>2016</td>\n",
       "      <td>email</td>\n",
       "      <td>True</td>\n",
       "      <td>2003</td>\n",
       "      <td>False</td>\n",
       "    </tr>\n",
       "    <tr>\n",
       "      <td>...</td>\n",
       "      <td>...</td>\n",
       "      <td>...</td>\n",
       "      <td>...</td>\n",
       "      <td>...</td>\n",
       "      <td>...</td>\n",
       "      <td>...</td>\n",
       "      <td>...</td>\n",
       "      <td>...</td>\n",
       "      <td>...</td>\n",
       "      <td>...</td>\n",
       "    </tr>\n",
       "    <tr>\n",
       "      <td>423443</td>\n",
       "      <td>ADULT</td>\n",
       "      <td>0.017672</td>\n",
       "      <td>-0.211801</td>\n",
       "      <td>45 to 54 years</td>\n",
       "      <td>August</td>\n",
       "      <td>2014</td>\n",
       "      <td>email</td>\n",
       "      <td>True</td>\n",
       "      <td>2008</td>\n",
       "      <td>False</td>\n",
       "    </tr>\n",
       "    <tr>\n",
       "      <td>423444</td>\n",
       "      <td>JUVENILE</td>\n",
       "      <td>-0.348206</td>\n",
       "      <td>-0.265132</td>\n",
       "      <td>10 to 19 years</td>\n",
       "      <td>March</td>\n",
       "      <td>2015</td>\n",
       "      <td>email</td>\n",
       "      <td>True</td>\n",
       "      <td>2014</td>\n",
       "      <td>False</td>\n",
       "    </tr>\n",
       "    <tr>\n",
       "      <td>423445</td>\n",
       "      <td>ADULT</td>\n",
       "      <td>-0.348206</td>\n",
       "      <td>-0.260688</td>\n",
       "      <td>25 to 34 years</td>\n",
       "      <td>January</td>\n",
       "      <td>2014</td>\n",
       "      <td>email</td>\n",
       "      <td>True</td>\n",
       "      <td>2011</td>\n",
       "      <td>False</td>\n",
       "    </tr>\n",
       "    <tr>\n",
       "      <td>423446</td>\n",
       "      <td>ADULT</td>\n",
       "      <td>-0.290900</td>\n",
       "      <td>-0.247355</td>\n",
       "      <td>20 to 24 years</td>\n",
       "      <td>July</td>\n",
       "      <td>2016</td>\n",
       "      <td>email</td>\n",
       "      <td>True</td>\n",
       "      <td>2005</td>\n",
       "      <td>False</td>\n",
       "    </tr>\n",
       "    <tr>\n",
       "      <td>423447</td>\n",
       "      <td>YOUNG ADULT</td>\n",
       "      <td>1.102082</td>\n",
       "      <td>0.148183</td>\n",
       "      <td>10 to 19 years</td>\n",
       "      <td>April</td>\n",
       "      <td>2016</td>\n",
       "      <td>email</td>\n",
       "      <td>True</td>\n",
       "      <td>2003</td>\n",
       "      <td>False</td>\n",
       "    </tr>\n",
       "  </tbody>\n",
       "</table>\n",
       "<p>423448 rows × 10 columns</p>\n",
       "</div>"
      ],
      "text/plain": [
       "       Patron Type Definition  Total Checkouts  Total Renewals  \\\n",
       "0                      SENIOR        -0.295308       -0.207357   \n",
       "1                       ADULT        -0.310736       -0.220690   \n",
       "2                       ADULT         0.249101        2.219206   \n",
       "3                       ADULT        -0.196124       -0.096251   \n",
       "4                       ADULT         0.044121        0.134851   \n",
       "...                       ...              ...             ...   \n",
       "423443                  ADULT         0.017672       -0.211801   \n",
       "423444               JUVENILE        -0.348206       -0.265132   \n",
       "423445                  ADULT        -0.348206       -0.260688   \n",
       "423446                  ADULT        -0.290900       -0.247355   \n",
       "423447            YOUNG ADULT         1.102082        0.148183   \n",
       "\n",
       "             Age Range Circulation Active Month Circulation Active Year  \\\n",
       "0       65 to 74 years                 November                    2012   \n",
       "1       55 to 59 years                  October                    2015   \n",
       "2       60 to 64 years                  January                    2015   \n",
       "3       45 to 54 years                 February                    2016   \n",
       "4       45 to 54 years                     July                    2016   \n",
       "...                ...                      ...                     ...   \n",
       "423443  45 to 54 years                   August                    2014   \n",
       "423444  10 to 19 years                    March                    2015   \n",
       "423445  25 to 34 years                  January                    2014   \n",
       "423446  20 to 24 years                     July                    2016   \n",
       "423447  10 to 19 years                    April                    2016   \n",
       "\n",
       "       Notice Preference Definition  Provided Email Address  \\\n",
       "0                             email                    True   \n",
       "1                             email                    True   \n",
       "2                             email                    True   \n",
       "3                             email                    True   \n",
       "4                             email                    True   \n",
       "...                             ...                     ...   \n",
       "423443                        email                    True   \n",
       "423444                        email                    True   \n",
       "423445                        email                    True   \n",
       "423446                        email                    True   \n",
       "423447                        email                    True   \n",
       "\n",
       "        Year Patron Registered  Outside of County  \n",
       "0                         2003               True  \n",
       "1                         2003              False  \n",
       "2                         2003               True  \n",
       "3                         2003              False  \n",
       "4                         2003              False  \n",
       "...                        ...                ...  \n",
       "423443                    2008              False  \n",
       "423444                    2014              False  \n",
       "423445                    2011              False  \n",
       "423446                    2005              False  \n",
       "423447                    2003              False  \n",
       "\n",
       "[423448 rows x 10 columns]"
      ]
     },
     "execution_count": 46,
     "metadata": {},
     "output_type": "execute_result"
    }
   ],
   "source": [
    "from math import sqrt\n",
    "\n",
    "def linear_regression(x, y): \n",
    "    \n",
    "    n = np.size(x) \n",
    "    x,y= remove_outliers(x,y)\n",
    "  \n",
    "    # mean of x and y vector \n",
    "    m_x, m_y = np.mean(x), np.mean(y) \n",
    "    \n",
    "    SS_xy = np.sum((x-m_x) * (y-m_y)) \n",
    "    SS_xx = np.sum((x-m_x) ** 2)\n",
    "    SS_yy = np.sum((y-m_y) ** 2)\n",
    "  \n",
    "    # calculating regression coefficients \n",
    "    b_1 = SS_xy / SS_xx \n",
    "    b_0 = m_y - b_1*m_x\n",
    "    print('b_0 : ', b_0)\n",
    "    print('b_1 : ', b_1)\n",
    "    \n",
    "    # predicted response vector \n",
    "    y_preds = b_0 + b_1*x\n",
    "    \n",
    "    print(\"CORRELATION COEFFICIENT IS : \",SS_xy/(sqrt(SS_xx)*sqrt(SS_yy)))\n",
    "        \n",
    "    # plotting the actual points as scatter plot \n",
    "    plt.scatter(x, y, color = \"m\", \n",
    "               marker = \"o\", s = 30) \n",
    "  \n",
    "    # plotting the regression line \n",
    "    plt.plot(x, y_preds, color = \"g\") \n",
    "  \n",
    "    # putting labels \n",
    "    plt.xlabel('x') \n",
    "    plt.ylabel('y') \n",
    "  \n",
    "    # function to show plot \n",
    "    plt.show()\n",
    "    \n",
    "# x = np.arange(2003,2017) \n",
    "# y = np.array([20,1270,3173,6421,8772,16065,31172,49485,68826,181524,1147916,2098459,3116583,18532090]) \n",
    "# linear_regression(x, y)\n",
    "df"
   ]
  },
  {
   "cell_type": "code",
   "execution_count": 47,
   "metadata": {
    "colab": {
     "base_uri": "https://localhost:8080/",
     "height": 448
    },
    "colab_type": "code",
    "executionInfo": {
     "elapsed": 10382,
     "status": "ok",
     "timestamp": 1574696603091,
     "user": {
      "displayName": "Harish R",
      "photoUrl": "https://lh3.googleusercontent.com/a-/AAuE7mAE0wSBpKU4H-UVhIdqG_4lfvwlE_ZO2uIdmMZ7SQ=s64",
      "userId": "16536760646628309567"
     },
     "user_tz": -330
    },
    "id": "BI0MuS2Teell",
    "outputId": "dd66c956-fd7d-47f1-d501-922df7743b0d"
   },
   "outputs": [
    {
     "name": "stdout",
     "output_type": "stream",
     "text": [
      "CORRELATION COEFFICIENT IS :  0.5893620279316923\n"
     ]
    },
    {
     "data": {
      "image/png": "[encoded data removed]",
      "text/plain": [
       "<Figure size 640x480 with 1 Axes>"
      ]
     },
     "metadata": {},
     "output_type": "display_data"
    }
   ],
   "source": [
    "import matplotlib.pyplot\n",
    "matplotlib.pyplot.scatter(df['Total Checkouts'], df['Total Renewals'])\n",
    "x=np.array(df['Total Checkouts'])\n",
    "y=np.array(df['Total Renewals'])\n",
    "m_x = np.mean(x)\n",
    "m_y = np.mean(y)\n",
    "SS_xy = np.sum((x-m_x) * (y-m_y)) \n",
    "SS_xx = np.sum((x-m_x) ** 2)\n",
    "SS_yy = np.sum((y-m_y) ** 2)\n",
    "print(\"CORRELATION COEFFICIENT IS : \",SS_xy/(sqrt(SS_xx)*sqrt(SS_yy)))"
   ]
  },
  {
   "cell_type": "code",
   "execution_count": 48,
   "metadata": {
    "colab": {
     "base_uri": "https://localhost:8080/",
     "height": 927
    },
    "colab_type": "code",
    "executionInfo": {
     "elapsed": 13346,
     "status": "ok",
     "timestamp": 1574696606070,
     "user": {
      "displayName": "Harish R",
      "photoUrl": "https://lh3.googleusercontent.com/a-/AAuE7mAE0wSBpKU4H-UVhIdqG_4lfvwlE_ZO2uIdmMZ7SQ=s64",
      "userId": "16536760646628309567"
     },
     "user_tz": -330
    },
    "id": "oXTVEJt6eelm",
    "outputId": "9a369a6f-03df-476d-9362-3be156d2d669"
   },
   "outputs": [
    {
     "data": {
      "image/png": "[encoded data removed]",
      "text/plain": [
       "<Figure size 640x480 with 1 Axes>"
      ]
     },
     "metadata": {},
     "output_type": "display_data"
    }
   ],
   "source": [
    "import numpy as np \n",
    "import pylab \n",
    "import scipy.stats as stats\n",
    "\n",
    "X1=np.sort(df['Total Checkouts'])\n",
    "X2=np.sort(df['Total Renewals'])\n",
    "# measurements = np.random.normal(loc = 20, scale = 5, size=100)   \n",
    "stats.probplot(X1, dist=\"norm\", plot=pylab)\n",
    "pylab.show()\n"
   ]
  },
  {
   "cell_type": "code",
   "execution_count": 49,
   "metadata": {
    "colab": {
     "base_uri": "https://localhost:8080/",
     "height": 927
    },
    "colab_type": "code",
    "executionInfo": {
     "elapsed": 16730,
     "status": "ok",
     "timestamp": 1574696609462,
     "user": {
      "displayName": "Harish R",
      "photoUrl": "https://lh3.googleusercontent.com/a-/AAuE7mAE0wSBpKU4H-UVhIdqG_4lfvwlE_ZO2uIdmMZ7SQ=s64",
      "userId": "16536760646628309567"
     },
     "user_tz": -330
    },
    "id": "P7McKHWfeelr",
    "outputId": "cc90019f-9511-481c-f6d5-3bf5af8d308e"
   },
   "outputs": [
    {
     "data": {
      "image/png": "[encoded data removed]",
      "text/plain": [
       "<Figure size 640x480 with 1 Axes>"
      ]
     },
     "metadata": {},
     "output_type": "display_data"
    }
   ],
   "source": [
    "stats.probplot(X2, dist=\"norm\", plot=pylab)\n",
    "pylab.show()"
   ]
  },
  {
   "cell_type": "code",
   "execution_count": 50,
   "metadata": {
    "colab": {
     "base_uri": "https://localhost:8080/",
     "height": 35
    },
    "colab_type": "code",
    "executionInfo": {
     "elapsed": 16723,
     "status": "ok",
     "timestamp": 1574696609465,
     "user": {
      "displayName": "Harish R",
      "photoUrl": "https://lh3.googleusercontent.com/a-/AAuE7mAE0wSBpKU4H-UVhIdqG_4lfvwlE_ZO2uIdmMZ7SQ=s64",
      "userId": "16536760646628309567"
     },
     "user_tz": -330
    },
    "id": "2dhM7Wwgeelt",
    "outputId": "3129d519-34e6-469f-8883-4be59178c1ad"
   },
   "outputs": [
    {
     "data": {
      "text/plain": [
       "-1.8265981490675486e-14"
      ]
     },
     "execution_count": 50,
     "metadata": {},
     "output_type": "execute_result"
    }
   ],
   "source": [
    "np.mean(df['Total Checkouts'])"
   ]
  },
  {
   "cell_type": "code",
   "execution_count": 51,
   "metadata": {
    "colab": {
     "base_uri": "https://localhost:8080/",
     "height": 35
    },
    "colab_type": "code",
    "executionInfo": {
     "elapsed": 16702,
     "status": "ok",
     "timestamp": 1574696609467,
     "user": {
      "displayName": "Harish R",
      "photoUrl": "https://lh3.googleusercontent.com/a-/AAuE7mAE0wSBpKU4H-UVhIdqG_4lfvwlE_ZO2uIdmMZ7SQ=s64",
      "userId": "16536760646628309567"
     },
     "user_tz": -330
    },
    "id": "Vh2AElcseelv",
    "outputId": "0506c6f2-5ec9-4d0a-f5ae-cf0e96dbb7bd"
   },
   "outputs": [
    {
     "data": {
      "text/plain": [
       "1.0000011807851232"
      ]
     },
     "execution_count": 51,
     "metadata": {},
     "output_type": "execute_result"
    }
   ],
   "source": [
    "df['Total Checkouts'].std()"
   ]
  },
  {
   "cell_type": "code",
   "execution_count": null,
   "metadata": {
    "colab": {},
    "colab_type": "code",
    "id": "XBckvkFJeel1"
   },
   "outputs": [],
   "source": []
  }
 ],
 "metadata": {
  "accelerator": "TPU",
  "colab": {
   "collapsed_sections": [],
   "name": "Playing with the dataset.ipynb",
   "provenance": []
  },
  "kernelspec": {
   "display_name": "Python 3",
   "language": "python",
   "name": "python3"
  },
  "language_info": {
   "codemirror_mode": {
    "name": "ipython",
    "version": 3
   },
   "file_extension": ".py",
   "mimetype": "text/x-python",
   "name": "python",
   "nbconvert_exporter": "python",
   "pygments_lexer": "ipython3",
   "version": "3.6.9"
  }
 },
 "nbformat": 4,
 "nbformat_minor": 1
}
